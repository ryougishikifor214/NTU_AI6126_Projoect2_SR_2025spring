{
 "cells": [
  {
   "cell_type": "code",
   "execution_count": 1,
   "id": "64e804b4",
   "metadata": {},
   "outputs": [],
   "source": [
    "from utils.clean_redundant_files import \\\n",
    "    clean_junk_files, clean_wandb_local_vis\n",
    "    \n",
    "from project_config import OUT_DIR_PATH, PROJECT_ROOT_DIR_PATH, RES_DIR_PATH"
   ]
  },
  {
   "cell_type": "code",
   "execution_count": 2,
   "id": "ec7829bf",
   "metadata": {},
   "outputs": [
    {
     "name": "stdout",
     "output_type": "stream",
     "text": [
      "[INFO] Cleaning in directory: /home/featurize/out/AI6126project2\n",
      "[CMD] find /home/featurize/out/AI6126project2 -type d -path '*/media/images' -exec rm -rf {} +\n"
     ]
    }
   ],
   "source": [
    "clean_wandb_local_vis(OUT_DIR_PATH)"
   ]
  },
  {
   "cell_type": "code",
   "execution_count": null,
   "id": "370ae75b",
   "metadata": {},
   "outputs": [
    {
     "name": "stdout",
     "output_type": "stream",
     "text": [
      "[INFO] Cleaning in directory: /home/featurize/work/AI6126project2\n",
      "[CMD] find /home/featurize/work/AI6126project2 -iname '__MACOSX' -exec rm -rf {} +\n"
     ]
    },
    {
     "name": "stdout",
     "output_type": "stream",
     "text": [
      "[CMD] find /home/featurize/work/AI6126project2 -iname '.DS_Store' -exec rm -rf {} +\n",
      "[CMD] find /home/featurize/work/AI6126project2 -iname '.ipynb_checkpoints' -exec rm -rf {} +\n",
      "[CMD] find /home/featurize/work/AI6126project2 -iname '*.pyc' -exec rm -rf {} +\n",
      "[CMD] find /home/featurize/work/AI6126project2 -iname '__pycache__' -exec rm -rf {} +\n",
      "[INFO] Cleaning in directory: /home/featurize/out/AI6126project2\n",
      "[CMD] find /home/featurize/out/AI6126project2 -iname '__MACOSX' -exec rm -rf {} +\n",
      "[CMD] find /home/featurize/out/AI6126project2 -iname '.DS_Store' -exec rm -rf {} +\n",
      "[CMD] find /home/featurize/out/AI6126project2 -iname '.ipynb_checkpoints' -exec rm -rf {} +\n",
      "[CMD] find /home/featurize/out/AI6126project2 -iname '*.pyc' -exec rm -rf {} +\n",
      "[CMD] find /home/featurize/out/AI6126project2 -iname '__pycache__' -exec rm -rf {} +\n",
      "[INFO] Cleaning in directory: /home/featurize/res/AI6126project2\n",
      "[CMD] find /home/featurize/res/AI6126project2 -iname '__MACOSX' -exec rm -rf {} +\n",
      "[CMD] find /home/featurize/res/AI6126project2 -iname '.DS_Store' -exec rm -rf {} +\n",
      "[CMD] find /home/featurize/res/AI6126project2 -iname '.ipynb_checkpoints' -exec rm -rf {} +\n",
      "[CMD] find /home/featurize/res/AI6126project2 -iname '*.pyc' -exec rm -rf {} +\n",
      "[CMD] find /home/featurize/res/AI6126project2 -iname '__pycache__' -exec rm -rf {} +\n"
     ]
    }
   ],
   "source": [
    "clean_junk_files(PROJECT_ROOT_DIR_PATH)\n",
    "clean_junk_files(OUT_DIR_PATH)\n",
    "clean_junk_files(RES_DIR_PATH)"
   ]
  }
 ],
 "metadata": {
  "kernelspec": {
   "display_name": "Python 3",
   "language": "python",
   "name": "python3"
  },
  "language_info": {
   "codemirror_mode": {
    "name": "ipython",
    "version": 3
   },
   "file_extension": ".py",
   "mimetype": "text/x-python",
   "name": "python",
   "nbconvert_exporter": "python",
   "pygments_lexer": "ipython3",
   "version": "3.8.20"
  }
 },
 "nbformat": 4,
 "nbformat_minor": 5
}

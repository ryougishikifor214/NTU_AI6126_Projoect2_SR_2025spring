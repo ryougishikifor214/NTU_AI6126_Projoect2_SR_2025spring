{
 "cells": [
  {
   "cell_type": "code",
   "execution_count": 1,
   "id": "0c158767",
   "metadata": {},
   "outputs": [],
   "source": [
    "import logging\n",
    "logging.basicConfig(level=logging.INFO)\n",
    "logger = logging.getLogger(__name__)\n",
    "\n",
    "from project_config import ProjectConfig\n",
    "pcfg = ProjectConfig()\n",
    "\n",
    "from tqdm import tqdm\n",
    "from pathlib import Path\n",
    "\n",
    "import warnings\n",
    "warnings.filterwarnings(\"ignore\", category=UserWarning)"
   ]
  },
  {
   "cell_type": "code",
   "execution_count": 2,
   "id": "62e3b41c",
   "metadata": {},
   "outputs": [],
   "source": [
    "NPARAMS_THRESHOLD = 2276356\n",
    "\n",
    "root_dir = Path(pcfg.MMAGIC_MODEL_CONFIGS_DIR_PATH).expanduser()\n",
    "subdirs = [\n",
    "    \"srcnn\",\n",
    "    \"srgan_resnet\",\n",
    "    \"edsr\",\n",
    "    \"esrgan\",\n",
    "    \"rdn\",\n",
    "    \"dic\",\n",
    "    \"ttsr\",\n",
    "    \"glean\",\n",
    "    \"liif\",\n",
    "    \"real_esrgan\",\n",
    "    \"swinir\",\n",
    "]\n",
    "oom_config_names = [\n",
    "    \"dic_gan-x8c48b6_4xb2-500k_celeba-hq.py\", #oom\n",
    "    \"dic_x8c48b6_4xb2-150k_celeba-hq.py\", #oom\n",
    "]\n",
    "unsupported_config_methodsss =[\n",
    "    \"ttsr\", #TypeError: forward() missing 2 required positional arguments: 'soft_attention' and 'textures'\n",
    "    \"glean\", #input size assertion 32\n",
    "    \"liif\", #TypeError: forward() missing 2 required positional arguments: 'coord' and 'cell'\n",
    "]\n",
    "\n",
    "from collections import defaultdict\n",
    "model_methods_analyses = defaultdict(\n",
    "    lambda: defaultdict(\n",
    "        lambda: defaultdict(\n",
    "            dict\n",
    "        )\n",
    "    )\n",
    ")"
   ]
  },
  {
   "cell_type": "code",
   "execution_count": 3,
   "id": "0ab03cd6",
   "metadata": {},
   "outputs": [],
   "source": [
    "from utils.analyze_models import inference_nflops_nparams, to_dict,\\\n",
    "    filter_dict_by_flag, convert_size_to_int, save_to_py, run_model_in_subprocess\n",
    "\n",
    "\n",
    "def inference_sr_nflops_nparams_wrapper(model_cfg_path: str):\n",
    "    inputs = [\n",
    "        model_cfg_path,\n",
    "        '--shape',\n",
    "        '3',\n",
    "        '128',\n",
    "        '128',\n",
    "    ]\n",
    "    return run_model_in_subprocess(inputs)\n",
    "    "
   ]
  },
  {
   "cell_type": "code",
   "execution_count": 4,
   "id": "6cd3ddb3",
   "metadata": {},
   "outputs": [],
   "source": [
    "all_model_cfg_paths = list()\n",
    "for subdir in subdirs:\n",
    "    subdir_path = root_dir / subdir\n",
    "\n",
    "    if subdir_path.exists() and subdir_path.is_dir():\n",
    "        model_cfg_paths = list(subdir_path.glob(\"*.py\"))\n",
    "        all_model_cfg_paths.extend(model_cfg_paths)\n",
    "    else:\n",
    "        logger.warning(f\"Subdirectory {subdir} does not exist or is not a directory.\")"
   ]
  },
  {
   "cell_type": "code",
   "execution_count": 5,
   "id": "e3de00b9",
   "metadata": {},
   "outputs": [
    {
     "data": {
      "text/plain": [
       "['swinir_s126w7d6e180_8xb1-lr2e-4-1600k_dfwb-grayCAR40.py',\n",
       " 'swinir_s126w7d6e180_8xb1-lr2e-4-1600k_dfwb-grayCAR30.py',\n",
       " 'swinir_s126w7d6e180_8xb1-lr2e-4-1600k_dfwb-grayCAR20.py',\n",
       " 'swinir_s128w8d6e180_8xb1-lr2e-4-1600k_dfwb-grayDN15.py',\n",
       " 'swinir_s126w7d6e180_8xb1-lr2e-4-1600k_dfwb-grayCAR10.py',\n",
       " 'swinir_s128w8d6e180_8xb1-lr2e-4-1600k_dfwb-grayDN25.py',\n",
       " 'swinir_s128w8d6e180_8xb1-lr2e-4-1600k_dfwb-grayDN50.py']"
      ]
     },
     "execution_count": 5,
     "metadata": {},
     "output_type": "execute_result"
    }
   ],
   "source": [
    "grayscale_cfg_names = [str(model_cfg_path.name) for model_cfg_path in all_model_cfg_paths if 'gray' in str(model_cfg_path.name)]\n",
    "grayscale_cfg_names"
   ]
  },
  {
   "cell_type": "code",
   "execution_count": 6,
   "id": "6e80ca5f",
   "metadata": {},
   "outputs": [
    {
     "name": "stderr",
     "output_type": "stream",
     "text": [
      "Analyzing all model config:   0%|          | 0/55 [00:00<?, ?file/s]"
     ]
    },
    {
     "name": "stdout",
     "output_type": "stream",
     "text": [
      "\n",
      "Analyzing srcnn/srcnn_x4k915_1xb16-1000k_div2k.py...\n",
      "==============================\n",
      "Input shape: (3, 128, 128)\n",
      "Flops: 5.243G\n",
      "Params: 20.099K\n",
      "==============================\n",
      "\n"
     ]
    },
    {
     "name": "stderr",
     "output_type": "stream",
     "text": [
      "Analyzing all model config:   2%|▏         | 1/55 [00:12<11:12, 12.45s/file]"
     ]
    },
    {
     "name": "stdout",
     "output_type": "stream",
     "text": [
      "\n",
      "Analyzing srgan_resnet/msrresnet_x4c64b16_1xb16-1000k_div2k.py...\n",
      "==============================\n",
      "Input shape: (3, 128, 128)\n",
      "Flops: 41.555G\n",
      "Params: 1.518M\n",
      "==============================\n",
      "\n"
     ]
    },
    {
     "name": "stderr",
     "output_type": "stream",
     "text": [
      "Analyzing all model config:   4%|▎         | 2/55 [00:23<10:19, 11.69s/file]"
     ]
    },
    {
     "name": "stdout",
     "output_type": "stream",
     "text": [
      "\n",
      "Analyzing srgan_resnet/srgan_x4c64b16_1xb16-1000k_div2k.py...\n",
      "==============================\n",
      "Input shape: (3, 128, 128)\n",
      "Flops: 41.555G\n",
      "Params: 1.518M\n",
      "==============================\n",
      "\n"
     ]
    },
    {
     "name": "stderr",
     "output_type": "stream",
     "text": [
      "Analyzing all model config:   5%|▌         | 3/55 [00:35<10:17, 11.87s/file]"
     ]
    },
    {
     "name": "stdout",
     "output_type": "stream",
     "text": [
      "\n",
      "Analyzing edsr/edsr_x2c64b16_1xb16-300k_div2k.py...\n",
      "==============================\n",
      "Input shape: (3, 128, 128)\n",
      "Flops: 22.489G\n",
      "Params: 1.37M\n",
      "==============================\n",
      "\n"
     ]
    },
    {
     "name": "stderr",
     "output_type": "stream",
     "text": [
      "Analyzing all model config:   7%|▋         | 4/55 [00:47<09:55, 11.68s/file]"
     ]
    },
    {
     "name": "stdout",
     "output_type": "stream",
     "text": [
      "\n",
      "Analyzing edsr/edsr_x4c64b16_1xb16-300k_div2k.py...\n",
      "==============================\n",
      "Input shape: (3, 128, 128)\n",
      "Flops: 32.492G\n",
      "Params: 1.518M\n",
      "==============================\n",
      "\n"
     ]
    },
    {
     "name": "stderr",
     "output_type": "stream",
     "text": [
      "Analyzing all model config:   9%|▉         | 5/55 [00:58<09:37, 11.55s/file]"
     ]
    },
    {
     "name": "stdout",
     "output_type": "stream",
     "text": [
      "\n",
      "Analyzing edsr/edsr_x3c64b16_1xb16-300k_div2k.py...\n",
      "==============================\n",
      "Input shape: (3, 128, 128)\n",
      "Flops: 25.65G\n",
      "Params: 1.554M\n",
      "==============================\n",
      "\n"
     ]
    },
    {
     "name": "stderr",
     "output_type": "stream",
     "text": [
      "Analyzing all model config:  11%|█         | 6/55 [01:11<09:44, 11.93s/file]"
     ]
    },
    {
     "name": "stdout",
     "output_type": "stream",
     "text": [
      "\n",
      "Analyzing esrgan/esrgan_psnr-x4c64b23g32_1xb16-1000k_div2k.py...\n",
      "==============================\n",
      "Input shape: (3, 128, 128)\n",
      "Flops: 0.294T\n",
      "Params: 16.698M\n",
      "==============================\n",
      "\n"
     ]
    },
    {
     "name": "stderr",
     "output_type": "stream",
     "text": [
      "Analyzing all model config:  13%|█▎        | 7/55 [01:26<10:23, 12.99s/file]"
     ]
    },
    {
     "name": "stdout",
     "output_type": "stream",
     "text": [
      "\n",
      "Analyzing esrgan/esrgan_x4c64b23g32_1xb16-400k_div2k.py...\n",
      "==============================\n",
      "Input shape: (3, 128, 128)\n",
      "Flops: 0.294T\n",
      "Params: 16.698M\n",
      "==============================\n",
      "\n"
     ]
    },
    {
     "name": "stderr",
     "output_type": "stream",
     "text": [
      "Analyzing all model config:  15%|█▍        | 8/55 [01:41<10:45, 13.72s/file]"
     ]
    },
    {
     "name": "stdout",
     "output_type": "stream",
     "text": [
      "\n",
      "Analyzing rdn/rdn_x4c64b16_1xb16-1000k_div2k.py...\n",
      "==============================\n",
      "Input shape: (3, 128, 128)\n",
      "Flops: 0.372T\n",
      "Params: 22.271M\n",
      "==============================\n",
      "\n"
     ]
    },
    {
     "name": "stderr",
     "output_type": "stream",
     "text": [
      "Analyzing all model config:  16%|█▋        | 9/55 [01:53<10:09, 13.26s/file]"
     ]
    },
    {
     "name": "stdout",
     "output_type": "stream",
     "text": [
      "\n",
      "Analyzing rdn/rdn_x2c64b16_1xb16-1000k_div2k.py...\n",
      "==============================\n",
      "Input shape: (3, 128, 128)\n",
      "Flops: 0.362T\n",
      "Params: 22.123M\n",
      "==============================\n",
      "\n"
     ]
    },
    {
     "name": "stderr",
     "output_type": "stream",
     "text": [
      "Analyzing all model config:  18%|█▊        | 10/55 [02:05<09:41, 12.92s/file]"
     ]
    },
    {
     "name": "stdout",
     "output_type": "stream",
     "text": [
      "\n",
      "Analyzing rdn/rdn_x3c64b16_1xb16-1000k_div2k.py...\n",
      "==============================\n",
      "Input shape: (3, 128, 128)\n",
      "Flops: 0.366T\n",
      "Params: 22.308M\n",
      "==============================\n",
      "\n"
     ]
    },
    {
     "name": "stderr",
     "output_type": "stream",
     "text": [
      "Analyzing all model config:  20%|██        | 11/55 [02:19<09:34, 13.05s/file]"
     ]
    },
    {
     "name": "stdout",
     "output_type": "stream",
     "text": [
      "\n",
      "OOM, Skip dic/dic_gan-x8c48b6_4xb2-500k_celeba-hq.py...\n",
      "\n",
      "OOM, Skip dic/dic_x8c48b6_4xb2-150k_celeba-hq.py...\n",
      "\n",
      "Unsupported Method, Skip ttsr/ttsr-rec_x4c64b16_1xb9-200k_CUFED.py...\n",
      "\n",
      "Unsupported Method, Skip ttsr/ttsr-gan_x4c64b16_1xb9-500k_CUFED.py...\n",
      "\n",
      "Unsupported Method, Skip glean/glean_x8-fp16_2xb8_cat.py...\n",
      "\n",
      "Unsupported Method, Skip glean/glean_x16_2xb8_ffhq.py...\n",
      "\n",
      "Unsupported Method, Skip glean/glean_x16-fp16_2xb8_ffhq.py...\n",
      "\n",
      "Unsupported Method, Skip glean/glean_x8_2xb8_cat.py...\n",
      "\n",
      "Unsupported Method, Skip glean/glean_in128out1024-fp16_4xb2-300k_ffhq-celeba-hq.py...\n",
      "\n",
      "Unsupported Method, Skip glean/glean_in128out1024_4xb2-300k_ffhq-celeba-hq.py...\n",
      "\n",
      "Unsupported Method, Skip glean/glean_x16_2xb8_cat.py...\n",
      "\n",
      "Unsupported Method, Skip liif/liif-edsr-norm_c64b16_1xb16-1000k_div2k.py...\n",
      "\n",
      "Unsupported Method, Skip liif/liif-rdn-norm_c64b16_1xb16-1000k_div2k.py...\n",
      "\n",
      "Analyzing real_esrgan/realesrgan_c64b23g32_4xb12-lr1e-4-400k_df2k-ost.py...\n",
      "==============================\n",
      "Input shape: (3, 128, 128)\n",
      "Flops: 0.294T\n",
      "Params: 16.698M\n",
      "==============================\n",
      "\n"
     ]
    },
    {
     "name": "stderr",
     "output_type": "stream",
     "text": [
      "Analyzing all model config:  45%|████▌     | 25/55 [02:36<01:26,  2.89s/file]"
     ]
    },
    {
     "name": "stdout",
     "output_type": "stream",
     "text": [
      "\n",
      "Analyzing real_esrgan/realesrnet_c64b23g32_4xb12-lr2e-4-1000k_df2k-ost.py...\n",
      "==============================\n",
      "Input shape: (3, 128, 128)\n",
      "Flops: 0.294T\n",
      "Params: 16.698M\n",
      "==============================\n",
      "\n"
     ]
    },
    {
     "name": "stderr",
     "output_type": "stream",
     "text": [
      "Analyzing all model config:  47%|████▋     | 26/55 [02:49<01:47,  3.71s/file]"
     ]
    },
    {
     "name": "stdout",
     "output_type": "stream",
     "text": [
      "\n",
      "Analyzing swinir/swinir_s126w7d6e180_8xb1-lr2e-4-1600k_dfwb-colorCAR10.py...\n",
      "==============================\n",
      "Input shape: (3, 128, 128)\n",
      "Flops: 0.214T\n",
      "Params: 11.492M\n",
      "==============================\n",
      "\n"
     ]
    },
    {
     "name": "stderr",
     "output_type": "stream",
     "text": [
      "Analyzing all model config:  49%|████▉     | 27/55 [03:05<02:19,  4.98s/file]"
     ]
    },
    {
     "name": "stdout",
     "output_type": "stream",
     "text": [
      "\n",
      "Only for Grayscale, Skip swinir/swinir_s126w7d6e180_8xb1-lr2e-4-1600k_dfwb-grayCAR40.py...\n",
      "\n",
      "Only for Grayscale, Skip swinir/swinir_s126w7d6e180_8xb1-lr2e-4-1600k_dfwb-grayCAR30.py...\n",
      "\n",
      "Analyzing swinir/swinir_x3s64w8d6e180_8xb4-lr2e-4-500k_df2k.py...\n",
      "==============================\n",
      "Input shape: (3, 128, 128)\n",
      "Flops: 0.208T\n",
      "Params: 11.937M\n",
      "==============================\n",
      "\n"
     ]
    },
    {
     "name": "stderr",
     "output_type": "stream",
     "text": [
      "Analyzing all model config:  55%|█████▍    | 30/55 [03:22<02:08,  5.14s/file]"
     ]
    },
    {
     "name": "stdout",
     "output_type": "stream",
     "text": [
      "\n",
      "Analyzing swinir/swinir_gan-x4s64w8d6e180_8xb4-lr1e-4-600k_df2k-ost.py...\n",
      "==============================\n",
      "Input shape: (3, 128, 128)\n",
      "Flops: 0.225T\n",
      "Params: 11.716M\n",
      "==============================\n",
      "\n"
     ]
    },
    {
     "name": "stderr",
     "output_type": "stream",
     "text": [
      "Analyzing all model config:  56%|█████▋    | 31/55 [03:39<02:42,  6.76s/file]"
     ]
    },
    {
     "name": "stdout",
     "output_type": "stream",
     "text": [
      "\n",
      "Analyzing swinir/swinir_s128w8d6e180_8xb1-lr2e-4-1600k_dfwb-colorDN15.py...\n",
      "==============================\n",
      "Input shape: (3, 128, 128)\n",
      "Flops: 0.201T\n",
      "Params: 11.504M\n",
      "==============================\n",
      "\n"
     ]
    },
    {
     "name": "stderr",
     "output_type": "stream",
     "text": [
      "Analyzing all model config:  58%|█████▊    | 32/55 [03:52<02:57,  7.73s/file]"
     ]
    },
    {
     "name": "stdout",
     "output_type": "stream",
     "text": [
      "\n",
      "Analyzing swinir/swinir_gan-x4s64w8d9e240_8xb4-lr1e-4-600k_df2k-ost.py...\n",
      "==============================\n",
      "Input shape: (3, 128, 128)\n",
      "Flops: 0.505T\n",
      "Params: 28.013M\n",
      "==============================\n",
      "\n"
     ]
    },
    {
     "name": "stderr",
     "output_type": "stream",
     "text": [
      "Analyzing all model config:  60%|██████    | 33/55 [04:11<03:34,  9.77s/file]"
     ]
    },
    {
     "name": "stdout",
     "output_type": "stream",
     "text": [
      "\n",
      "Analyzing swinir/swinir_x2s64w8d6e180_8xb4-lr2e-4-500k_df2k.py...\n",
      "==============================\n",
      "Input shape: (3, 128, 128)\n",
      "Flops: 0.205T\n",
      "Params: 11.752M\n",
      "==============================\n",
      "\n"
     ]
    },
    {
     "name": "stderr",
     "output_type": "stream",
     "text": [
      "Analyzing all model config:  62%|██████▏   | 34/55 [04:28<03:52, 11.08s/file]"
     ]
    },
    {
     "name": "stdout",
     "output_type": "stream",
     "text": [
      "\n",
      "Analyzing swinir/swinir_psnr-x2s64w8d6e180_8xb4-lr1e-4-600k_df2k-ost.py...\n",
      "==============================\n",
      "Input shape: (3, 128, 128)\n",
      "Flops: 0.208T\n",
      "Params: 11.679M\n",
      "==============================\n",
      "\n"
     ]
    },
    {
     "name": "stderr",
     "output_type": "stream",
     "text": [
      "Analyzing all model config:  64%|██████▎   | 35/55 [04:45<04:09, 12.46s/file]"
     ]
    },
    {
     "name": "stdout",
     "output_type": "stream",
     "text": [
      "\n",
      "Analyzing swinir/swinir_x3s48w8d6e180_8xb4-lr2e-4-500k_div2k.py...\n",
      "==============================\n",
      "Input shape: (3, 128, 128)\n",
      "Flops: 0.208T\n",
      "Params: 11.937M\n",
      "==============================\n",
      "\n"
     ]
    },
    {
     "name": "stderr",
     "output_type": "stream",
     "text": [
      "Analyzing all model config:  65%|██████▌   | 36/55 [05:00<04:09, 13.12s/file]"
     ]
    },
    {
     "name": "stdout",
     "output_type": "stream",
     "text": [
      "\n",
      "Analyzing swinir/swinir_x4s64w8d4e60_8xb4-lr2e-4-500k_div2k.py...\n",
      "==============================\n",
      "Input shape: (3, 128, 128)\n",
      "Flops: 17.696G\n",
      "Params: 0.93M\n",
      "==============================\n",
      "\n"
     ]
    },
    {
     "name": "stderr",
     "output_type": "stream",
     "text": [
      "Analyzing all model config:  67%|██████▋   | 37/55 [05:14<04:01, 13.43s/file]"
     ]
    },
    {
     "name": "stdout",
     "output_type": "stream",
     "text": [
      "\n",
      "Only for Grayscale, Skip swinir/swinir_s126w7d6e180_8xb1-lr2e-4-1600k_dfwb-grayCAR20.py...\n",
      "\n",
      "Analyzing swinir/swinir_x2s48w8d6e180_8xb4-lr2e-4-500k_div2k.py...\n",
      "==============================\n",
      "Input shape: (3, 128, 128)\n",
      "Flops: 0.205T\n",
      "Params: 11.752M\n",
      "==============================\n",
      "\n"
     ]
    },
    {
     "name": "stderr",
     "output_type": "stream",
     "text": [
      "Analyzing all model config:  71%|███████   | 39/55 [05:30<02:58, 11.14s/file]"
     ]
    },
    {
     "name": "stdout",
     "output_type": "stream",
     "text": [
      "\n",
      "Only for Grayscale, Skip swinir/swinir_s128w8d6e180_8xb1-lr2e-4-1600k_dfwb-grayDN15.py...\n",
      "\n",
      "Analyzing swinir/swinir_psnr-x4s64w8d6e180_8xb4-lr1e-4-600k_df2k-ost.py...\n",
      "==============================\n",
      "Input shape: (3, 128, 128)\n",
      "Flops: 0.225T\n",
      "Params: 11.716M\n",
      "==============================\n",
      "\n"
     ]
    },
    {
     "name": "stderr",
     "output_type": "stream",
     "text": [
      "Analyzing all model config:  75%|███████▍  | 41/55 [05:47<02:21, 10.12s/file]"
     ]
    },
    {
     "name": "stdout",
     "output_type": "stream",
     "text": [
      "\n",
      "Analyzing swinir/swinir_x4s64w8d6e180_8xb4-lr2e-4-500k_df2k.py...\n",
      "==============================\n",
      "Input shape: (3, 128, 128)\n",
      "Flops: 0.215T\n",
      "Params: 11.9M\n",
      "==============================\n",
      "\n"
     ]
    },
    {
     "name": "stderr",
     "output_type": "stream",
     "text": [
      "Analyzing all model config:  76%|███████▋  | 42/55 [06:01<02:22, 10.98s/file]"
     ]
    },
    {
     "name": "stdout",
     "output_type": "stream",
     "text": [
      "\n",
      "Only for Grayscale, Skip swinir/swinir_s126w7d6e180_8xb1-lr2e-4-1600k_dfwb-grayCAR10.py...\n",
      "\n",
      "Analyzing swinir/swinir_x4s48w8d6e180_8xb4-lr2e-4-500k_div2k.py...\n",
      "==============================\n",
      "Input shape: (3, 128, 128)\n",
      "Flops: 0.215T\n",
      "Params: 11.9M\n",
      "==============================\n",
      "\n"
     ]
    },
    {
     "name": "stderr",
     "output_type": "stream",
     "text": [
      "Analyzing all model config:  80%|████████  | 44/55 [06:18<01:49,  9.92s/file]"
     ]
    },
    {
     "name": "stdout",
     "output_type": "stream",
     "text": [
      "\n",
      "Only for Grayscale, Skip swinir/swinir_s128w8d6e180_8xb1-lr2e-4-1600k_dfwb-grayDN25.py...\n",
      "\n",
      "Analyzing swinir/swinir_x2s64w8d4e60_8xb4-lr2e-4-500k_div2k.py...\n",
      "==============================\n",
      "Input shape: (3, 128, 128)\n",
      "Flops: 17.377G\n",
      "Params: 0.91M\n",
      "==============================\n",
      "\n"
     ]
    },
    {
     "name": "stderr",
     "output_type": "stream",
     "text": [
      "Analyzing all model config:  84%|████████▎ | 46/55 [06:32<01:20,  8.98s/file]"
     ]
    },
    {
     "name": "stdout",
     "output_type": "stream",
     "text": [
      "\n",
      "Analyzing swinir/swinir_s126w7d6e180_8xb1-lr2e-4-1600k_dfwb-colorCAR40.py...\n",
      "==============================\n",
      "Input shape: (3, 128, 128)\n",
      "Flops: 0.214T\n",
      "Params: 11.492M\n",
      "==============================\n",
      "\n"
     ]
    },
    {
     "name": "stderr",
     "output_type": "stream",
     "text": [
      "Analyzing all model config:  85%|████████▌ | 47/55 [06:51<01:26, 10.85s/file]"
     ]
    },
    {
     "name": "stdout",
     "output_type": "stream",
     "text": [
      "\n",
      "Analyzing swinir/swinir_s128w8d6e180_8xb1-lr2e-4-1600k_dfwb-colorDN50.py...\n",
      "==============================\n",
      "Input shape: (3, 128, 128)\n",
      "Flops: 0.201T\n",
      "Params: 11.504M\n",
      "==============================\n",
      "\n"
     ]
    },
    {
     "name": "stderr",
     "output_type": "stream",
     "text": [
      "Analyzing all model config:  87%|████████▋ | 48/55 [07:03<01:18, 11.28s/file]"
     ]
    },
    {
     "name": "stdout",
     "output_type": "stream",
     "text": [
      "\n",
      "Analyzing swinir/swinir_s126w7d6e180_8xb1-lr2e-4-1600k_dfwb-colorCAR30.py...\n",
      "==============================\n",
      "Input shape: (3, 128, 128)\n",
      "Flops: 0.214T\n",
      "Params: 11.492M\n",
      "==============================\n",
      "\n"
     ]
    },
    {
     "name": "stderr",
     "output_type": "stream",
     "text": [
      "Analyzing all model config:  89%|████████▉ | 49/55 [07:18<01:12, 12.10s/file]"
     ]
    },
    {
     "name": "stdout",
     "output_type": "stream",
     "text": [
      "\n",
      "Analyzing swinir/swinir_x3s64w8d4e60_8xb4-lr2e-4-500k_div2k.py...\n",
      "==============================\n",
      "Input shape: (3, 128, 128)\n",
      "Flops: 17.51G\n",
      "Params: 0.918M\n",
      "==============================\n",
      "\n"
     ]
    },
    {
     "name": "stderr",
     "output_type": "stream",
     "text": [
      "Analyzing all model config:  91%|█████████ | 50/55 [07:32<01:03, 12.60s/file]"
     ]
    },
    {
     "name": "stdout",
     "output_type": "stream",
     "text": [
      "\n",
      "Analyzing swinir/swinir_s128w8d6e180_8xb1-lr2e-4-1600k_dfwb-colorDN25.py...\n",
      "==============================\n",
      "Input shape: (3, 128, 128)\n",
      "Flops: 0.201T\n",
      "Params: 11.504M\n",
      "==============================\n",
      "\n"
     ]
    },
    {
     "name": "stderr",
     "output_type": "stream",
     "text": [
      "Analyzing all model config:  93%|█████████▎| 51/55 [07:45<00:50, 12.57s/file]"
     ]
    },
    {
     "name": "stdout",
     "output_type": "stream",
     "text": [
      "\n",
      "Analyzing swinir/swinir_s126w7d6e180_8xb1-lr2e-4-1600k_dfwb-colorCAR20.py...\n",
      "==============================\n",
      "Input shape: (3, 128, 128)\n",
      "Flops: 0.214T\n",
      "Params: 11.492M\n",
      "==============================\n",
      "\n"
     ]
    },
    {
     "name": "stderr",
     "output_type": "stream",
     "text": [
      "Analyzing all model config:  95%|█████████▍| 52/55 [08:01<00:40, 13.50s/file]"
     ]
    },
    {
     "name": "stdout",
     "output_type": "stream",
     "text": [
      "\n",
      "Analyzing swinir/swinir_gan-x2s64w8d6e180_8xb4-lr1e-4-600k_df2k-ost.py...\n",
      "==============================\n",
      "Input shape: (3, 128, 128)\n",
      "Flops: 0.208T\n",
      "Params: 11.679M\n",
      "==============================\n",
      "\n"
     ]
    },
    {
     "name": "stderr",
     "output_type": "stream",
     "text": [
      "Analyzing all model config:  96%|█████████▋| 53/55 [08:15<00:27, 13.85s/file]"
     ]
    },
    {
     "name": "stdout",
     "output_type": "stream",
     "text": [
      "\n",
      "Only for Grayscale, Skip swinir/swinir_s128w8d6e180_8xb1-lr2e-4-1600k_dfwb-grayDN50.py...\n",
      "\n",
      "Analyzing swinir/swinir_psnr-x4s64w8d9e240_8xb4-lr1e-4-600k_df2k-ost.py...\n",
      "==============================\n",
      "Input shape: (3, 128, 128)\n",
      "Flops: 0.505T\n",
      "Params: 28.013M\n",
      "==============================\n",
      "\n"
     ]
    },
    {
     "name": "stderr",
     "output_type": "stream",
     "text": [
      "Analyzing all model config: 100%|██████████| 55/55 [08:34<00:00,  9.35s/file]\n"
     ]
    }
   ],
   "source": [
    "for model_cfg_path in tqdm(all_model_cfg_paths, desc=\"Analyzing all model config\", unit=\"file\"):\n",
    "    model_method = model_cfg_path.parent.name\n",
    "    model_cfg_name = model_cfg_path.name\n",
    "    \n",
    "    if model_method not in unsupported_config_methodsss:\n",
    "        if model_cfg_name not in oom_config_names:\n",
    "            if model_cfg_name not in grayscale_cfg_names:\n",
    "                # logger.info(f\"Analyzing {model_method}/{model_cfg_name}...\")\n",
    "                print(f\"\\nAnalyzing {model_method}/{model_cfg_name}...\")\n",
    "                flops, params = inference_sr_nflops_nparams_wrapper(str(model_cfg_path))\n",
    "                nparams = convert_size_to_int(params)\n",
    "\n",
    "                model_methods_analyses[model_method][model_cfg_name][\"flops\"] = flops\n",
    "                model_methods_analyses[model_method][model_cfg_name][\"params\"] = params\n",
    "                model_methods_analyses[model_method][model_cfg_name][\"flag\"] = True if nparams <= NPARAMS_THRESHOLD else False\n",
    "            else:\n",
    "                print(f\"\\nOnly for Grayscale, Skip {model_method}/{model_cfg_name}...\")\n",
    "        else:\n",
    "            print(f\"\\nOOM, Skip {model_method}/{model_cfg_name}...\")\n",
    "    else:\n",
    "        print(f\"\\nUnsupported Method, Skip {model_method}/{model_cfg_name}...\")"
   ]
  },
  {
   "cell_type": "code",
   "execution_count": 7,
   "id": "018ab093",
   "metadata": {},
   "outputs": [],
   "source": [
    "model_methods_analyses_dict = to_dict(model_methods_analyses)\n",
    "filtered_model_methods_analyses_dict = filter_dict_by_flag(model_methods_analyses_dict, key=\"flag\", target_value=True)\n",
    "\n",
    "save_to_py(\n",
    "    pcfg.SRC_MODELS_ANALYSES_FILE_PATH,\n",
    "    \"model_methods_analyses\",\n",
    "    model_methods_analyses_dict\n",
    ")\n",
    "\n",
    "save_to_py(\n",
    "    pcfg.SRC_FILTERED_MODELS_ANALYSES_FILE_PATH,\n",
    "    \"filtered_model_methods_analyses\",\n",
    "    filtered_model_methods_analyses_dict\n",
    ")"
   ]
  }
 ],
 "metadata": {
  "kernelspec": {
   "display_name": "Python 3",
   "language": "python",
   "name": "python3"
  },
  "language_info": {
   "codemirror_mode": {
    "name": "ipython",
    "version": 3
   },
   "file_extension": ".py",
   "mimetype": "text/x-python",
   "name": "python",
   "nbconvert_exporter": "python",
   "pygments_lexer": "ipython3",
   "version": "3.8.20"
  }
 },
 "nbformat": 4,
 "nbformat_minor": 5
}

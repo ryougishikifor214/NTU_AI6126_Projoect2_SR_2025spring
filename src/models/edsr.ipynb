{
 "cells": [
  {
   "cell_type": "code",
   "execution_count": 1,
   "id": "9f4b7ff9",
   "metadata": {},
   "outputs": [],
   "source": [
    "import os\n",
    "import sys\n",
    "sys.path.append(os.path.abspath(\"..\"))\n",
    "\n",
    "# from project_config import ProjectConfig\n",
    "# pcfg = ProjectConfig()\n",
    "from project_config import *\n",
    "from mmengine import Config"
   ]
  },
  {
   "cell_type": "code",
   "execution_count": 2,
   "id": "efeaecd9",
   "metadata": {},
   "outputs": [
    {
     "data": {
      "text/plain": [
       "(True,\n",
       " '/home/boogiepop/codebase/AI6126project2/mmagic/configs/edsr/edsr_x4c64b16_1xb16-300k_div2k.py')"
      ]
     },
     "execution_count": 2,
     "metadata": {},
     "output_type": "execute_result"
    }
   ],
   "source": [
    "ASSETS_CONFIG_DIR = ASSETS_CONFIGS_EDSR_DIR_PATH\n",
    "WORKDIR = OUT_EDSR_DIR_PATH\n",
    "CFG_NAME = \"edsr\"\n",
    "mmagic_cfg_suffix = \"edsr/edsr_x4c64b16_1xb16-300k_div2k.py\"\n",
    "mmagic_cfg_path = os.path.join(MMAGIC_CONFIGS_DIR_PATH, mmagic_cfg_suffix)\n",
    "os.path.exists(mmagic_cfg_path), mmagic_cfg_path"
   ]
  },
  {
   "cell_type": "code",
   "execution_count": 3,
   "id": "92ae46b8",
   "metadata": {},
   "outputs": [],
   "source": [
    "cfg = Config.fromfile(mmagic_cfg_path)\n",
    "data_cfg = Config.fromfile(SRC_DATA_CFG_FILE_PATH, lazy_import=False)\n",
    "cfg.merge_from_dict(options=data_cfg) # type: ignore\n",
    "# print(cfg.pretty_text)\n",
    "\n",
    "cfg.experiment_name = CFG_NAME\n",
    "cfg.work_dir = WORKDIR\n",
    "cfg.save_dir = WORKDIR\n",
    "\n",
    "cfg.default_hooks.checkpoint.out_dir = WORKDIR"
   ]
  },
  {
   "cell_type": "code",
   "execution_count": 4,
   "id": "bf61675a",
   "metadata": {},
   "outputs": [
    {
     "data": {
      "text/plain": [
       "'/home/boogiepop/codebase/AI6126project2/assets/configs/edsr/edsr_20250415_cfg.py'"
      ]
     },
     "execution_count": 4,
     "metadata": {},
     "output_type": "execute_result"
    }
   ],
   "source": [
    "from datetime import datetime\n",
    "ymd_timestamp = datetime.now().strftime(\"%Y%m%d\")\n",
    "cfg_asset_path = os.path.join(\n",
    "    ASSETS_CONFIG_DIR,\n",
    "    f\"{CFG_NAME}_{ymd_timestamp}_cfg.py\"\n",
    ")\n",
    "cfg.dump(cfg_asset_path)\n",
    "cfg_asset_path"
   ]
  }
 ],
 "metadata": {
  "kernelspec": {
   "display_name": "6126p2",
   "language": "python",
   "name": "python3"
  },
  "language_info": {
   "codemirror_mode": {
    "name": "ipython",
    "version": 3
   },
   "file_extension": ".py",
   "mimetype": "text/x-python",
   "name": "python",
   "nbconvert_exporter": "python",
   "pygments_lexer": "ipython3",
   "version": "3.8.20"
  }
 },
 "nbformat": 4,
 "nbformat_minor": 5
}

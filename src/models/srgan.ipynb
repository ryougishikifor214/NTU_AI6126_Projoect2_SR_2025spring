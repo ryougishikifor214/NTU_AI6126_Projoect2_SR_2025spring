{
 "cells": [
  {
   "cell_type": "code",
   "execution_count": 1,
   "id": "9f4b7ff9",
   "metadata": {},
   "outputs": [],
   "source": [
    "import os\n",
    "import sys\n",
    "sys.path.append(os.path.abspath(\"..\"))\n",
    "\n",
    "from project_config import *\n",
    "from mmengine import Config\n",
    "from utils.set_flexible_cfg import *"
   ]
  },
  {
   "cell_type": "code",
   "execution_count": 3,
   "id": "efeaecd9",
   "metadata": {},
   "outputs": [
    {
     "data": {
      "text/plain": [
       "(True,\n",
       " '/home/featurize/work/AI6126project2/mmagic/configs/srgan_resnet/srgan_x4c64b16_1xb16-1000k_div2k.py')"
      ]
     },
     "execution_count": 3,
     "metadata": {},
     "output_type": "execute_result"
    }
   ],
   "source": [
    "ASSETS_CONFIG_DIR = ASSETS_CONFIGS_SRGAN_DIR_PATH\n",
    "WORKDIR = OUT_SRGAN_DIR_PATH\n",
    "CFG_NAME = \"srgan\"\n",
    "mmagic_cfg_suffix = \"srgan_resnet/srgan_x4c64b16_1xb16-1000k_div2k.py\"\n",
    "mmagic_cfg_path = os.path.join(MMAGIC_CONFIGS_DIR_PATH, mmagic_cfg_suffix)\n",
    "os.path.exists(mmagic_cfg_path), mmagic_cfg_path"
   ]
  },
  {
   "cell_type": "code",
   "execution_count": 4,
   "id": "81f877dd",
   "metadata": {},
   "outputs": [],
   "source": [
    "cfg = Config.fromfile(mmagic_cfg_path)\n",
    "data_cfg = Config.fromfile(SRC_DATA_CFG_FILE_PATH, lazy_import=False)\n",
    "vis_cfg = Config.fromfile(SRC_VIS_CFG_FILE_PATH, lazy_import=False)\n",
    "cfg.merge_from_dict(options=data_cfg.to_dict())\n",
    "cfg.merge_from_dict(options=vis_cfg.to_dict())\n",
    "# print(cfg.pretty_text)"
   ]
  },
  {
   "cell_type": "code",
   "execution_count": null,
   "id": "79a7eb4e",
   "metadata": {},
   "outputs": [],
   "source": [
    "cfg.train_dataloader.batch_size = 16 # original, 32\n",
    "\n",
    "cfg.train_cfg.max_iters = 400000 # original, 500k\n",
    "cfg.train_cfg.val_interval = 5000\n",
    "cfg.default_hooks.logger.interval = 100\n",
    "cfg.default_hooks.checkpoint.interval = cfg.train_cfg.val_interval\n",
    "cfg.default_hooks.checkpoint.max_keep_ckpts = 2\n",
    "cfg.default_hooks.checkpoint.save_best = 'PSNR'\n",
    "cfg.default_hooks.checkpoint.rule = \"greater\"\n",
    "\n",
    "# cfg.train_dataloader.num_workers = 4\n",
    "# cfg.val_dataloader.num_workers = 2"
   ]
  },
  {
   "cell_type": "code",
   "execution_count": 6,
   "id": "90fe1a28",
   "metadata": {},
   "outputs": [],
   "source": [
    "scale = 4\n",
    "\n",
    "# vis_mode = VisMode.TRAIN\n",
    "vis_mode = VisMode.VAL\n",
    "vis_type = VisBackendType.WANDB\n",
    "normalization = True\n",
    "\n",
    "scheduler_type = ParamSchedulerType.MULTISTEP\n",
    "#scheduler_type = ParamSchedulerType.COSINE\n",
    "\n",
    "cosine_n_periods = 4\n",
    "cosine_eta_min_ratio = 0.001\n",
    "\n",
    "scheduler_kwargs = dict(\n",
    "    by_epoch = False,\n",
    "    \n",
    "    # MutlistepLR\n",
    "    gamma = 0.5,\n",
    "    milestones = [50000, 100000, 200000, 300000], # for edsr\n",
    "    \n",
    "    # CosineRestartLr\n",
    "    periods = [cfg.train_cfg.max_iters//cosine_n_periods]*cosine_n_periods ,\n",
    "    # eta_min = cfg.optim_wrapper.optimizer.lr*0.001,\n",
    "    restart_weights = [1]*cosine_n_periods ,\n",
    ")\n",
    "\n",
    "loss_metrics = [dict(name='loss', step_metric='iter')]"
   ]
  },
  {
   "cell_type": "code",
   "execution_count": 7,
   "id": "7a2633df",
   "metadata": {},
   "outputs": [],
   "source": [
    "cfg.param_scheduler = get_param_scheduler(scheduler_type, scheduler_kwargs)\n",
    "visualizer, custom_vis_hook = get_visualizer_and_custom_hook(\n",
    "    vis_mode, vis_type\n",
    ")\n",
    "cfg.visualizer = visualizer\n",
    "cfg.custom_hooks.append(custom_vis_hook)\n",
    "\n",
    "wandb_backend = next(\n",
    "    (vb for vb in cfg.visualizer.vis_backends if vb.get('type') == 'WandbVisBackend'), \n",
    "    None\n",
    ")\n",
    "\n",
    "if not normalization:\n",
    "    cfg.model.generator.rgb_mean = [0, 0, 0]\n",
    "\n",
    "da_repr = get_DA_repr(cfg)\n",
    "\n",
    "if da_repr.find('Cutblur') != -1:\n",
    "    cfg.model.generator.upscale_factor = 1\n",
    "    cfg.val_pipeline.insert(-1, dict(type='Resize', keys = 'img', scale=(cfg.gt_h_size, cfg.gt_w_size), keep_ratio=True, interpolation='nearest'))\n",
    "    set_values, final_degradation = None, None\n",
    "    for i, transform in enumerate(cfg.train_pipeline):\n",
    "        if transform.type == 'SetValues':\n",
    "            cfg.train_pipeline[i].dictionary.scale = 1\n",
    "        if transform.type == 'FinalRandomSecondOrderDegradation':\n",
    "            cfg.train_pipeline[i].params.target_size = (cfg.gt_h_size, cfg.gt_w_size)\n",
    "            \n",
    "for i, transform in enumerate(cfg.train_pipeline):\n",
    "    if transform.type == 'PairedRandomCrop':\n",
    "        cfg.train_pipeline[i].gt_patch_size = 128\n",
    "        break\n",
    "\n",
    "cfg.train_dataloader.dataset.pipeline = cfg.train_pipeline\n",
    "cfg.val_dataloader.dataset.pipeline = cfg.val_pipeline\n",
    "\n",
    "\n",
    "cfg.experiment_name = (\n",
    "    f\"{CFG_NAME}\"\n",
    "    # f\"_b{cfg.train_dataloader.batch_size}\"\n",
    "    f\"_iter{cfg.train_cfg.max_iters}\"\n",
    "    f\"_ps{scheduler_type.name}\"\n",
    "    f\"_op{cfg.optim_wrapper.constructor}\"\n",
    "    # f\"_lr{cfg.optim_wrapper.optimizer.lr:.0e}\".replace('-', 'm')\n",
    "    f\"_da{da_repr}\"\n",
    "    f\"_n{normalization}\"\n",
    ")\n",
    "\n",
    "if wandb_backend:\n",
    "    wandb_backend.init_kwargs.name = cfg.experiment_name\n",
    "    wandb_backend.define_metric_cfg.extend(loss_metrics)\n",
    "\n",
    "cfg.vis_backends = cfg.visualizer.vis_backends\n",
    "\n",
    "cfg.work_dir = os.path.join(WORKDIR, cfg.experiment_name)\n",
    "cfg.save_dir = cfg.work_dir\n",
    "cfg.default_hooks.checkpoint.out_dir = cfg.work_dir"
   ]
  },
  {
   "cell_type": "code",
   "execution_count": 8,
   "id": "bf61675a",
   "metadata": {},
   "outputs": [
    {
     "data": {
      "text/plain": [
       "'/home/featurize/work/AI6126project2/assets/configs/srgan_resnet/srgan_20250424.py'"
      ]
     },
     "execution_count": 8,
     "metadata": {},
     "output_type": "execute_result"
    }
   ],
   "source": [
    "from datetime import datetime\n",
    "# ymd_timestamp = datetime.now().strftime(\"%Y%m%d%H%M%S\")\n",
    "ymd_timestamp = datetime.now().strftime(\"%Y%m%d\")\n",
    "cfg_asset_path = os.path.join(\n",
    "    ASSETS_CONFIG_DIR,\n",
    "    f\"{CFG_NAME}_{ymd_timestamp}.py\"\n",
    ")\n",
    "cfg.dump(cfg_asset_path)\n",
    "cfg_asset_path"
   ]
  },
  {
   "cell_type": "code",
   "execution_count": 9,
   "id": "9b53ec0e",
   "metadata": {},
   "outputs": [
    {
     "data": {
      "text/plain": [
       "'/home/featurize/out/AI6126project2/srgan_resnet/srgan_iter400000_psMULTISTEP_opMultiOptimWrapperConstructor_daPRC_FlipH_FlipV_RT_Cutblur_nTrue'"
      ]
     },
     "execution_count": 9,
     "metadata": {},
     "output_type": "execute_result"
    }
   ],
   "source": [
    "cfg.work_dir"
   ]
  },
  {
   "cell_type": "code",
   "execution_count": 10,
   "id": "688e6271",
   "metadata": {},
   "outputs": [
    {
     "data": {
      "text/plain": [
       "'srgan_iter400000_psMULTISTEP_opMultiOptimWrapperConstructor_daPRC_FlipH_FlipV_RT_Cutblur_nTrue'"
      ]
     },
     "execution_count": 10,
     "metadata": {},
     "output_type": "execute_result"
    }
   ],
   "source": [
    "cfg.experiment_name"
   ]
  }
 ],
 "metadata": {
  "kernelspec": {
   "display_name": "Python 3",
   "language": "python",
   "name": "python3"
  },
  "language_info": {
   "codemirror_mode": {
    "name": "ipython",
    "version": 3
   },
   "file_extension": ".py",
   "mimetype": "text/x-python",
   "name": "python",
   "nbconvert_exporter": "python",
   "pygments_lexer": "ipython3",
   "version": "3.8.20"
  }
 },
 "nbformat": 4,
 "nbformat_minor": 5
}

{
 "cells": [
  {
   "cell_type": "code",
   "execution_count": null,
   "id": "28c63408",
   "metadata": {},
   "outputs": [],
   "source": [
    "from project_config import MMAGIC_DIR_PATH"
   ]
  },
  {
   "cell_type": "code",
   "execution_count": null,
   "id": "a5d427aa",
   "metadata": {},
   "outputs": [],
   "source": [
    "!pip3 install pandas==1.3.5\n",
    "import pandas as pd\n",
    "pd.__version__"
   ]
  },
  {
   "cell_type": "code",
   "execution_count": null,
   "id": "fefe1b34",
   "metadata": {},
   "outputs": [],
   "source": [
    "!pip3 install torch==2.1.0 torchvision==0.16.0 torchaudio==2.1.0 \\\n",
    "    --index-url https://download.pytorch.org/whl/cu118"
   ]
  },
  {
   "cell_type": "code",
   "execution_count": null,
   "id": "9ba3c3db",
   "metadata": {},
   "outputs": [],
   "source": [
    "!pip3 install opencv-contrib-python pillow matplotlib seaborn tqdm albumentations wandb\n",
    "!pip3 install -U openmim\n",
    "!mim install \"mmcv==2.1.0\"\n",
    "!mim install 'mmengine'\n",
    "!mim install 'mmdet>=3.0.0'"
   ]
  },
  {
   "cell_type": "code",
   "execution_count": null,
   "id": "2f80b5cc",
   "metadata": {},
   "outputs": [],
   "source": [
    "# !rm -rf {projectCFG.MMAGIC_DIR_PATH}\n",
    "# !git clone https://github.com/open-mmlab/mmagic.git {projectCFG.MMAGIC_DIR_PATH}"
   ]
  },
  {
   "cell_type": "code",
   "execution_count": null,
   "id": "01b882a7",
   "metadata": {},
   "outputs": [],
   "source": [
    "import os\n",
    "os.chdir(MMAGIC_DIR_PATH)\n",
    "!pip3 install -e . -v"
   ]
  },
  {
   "cell_type": "code",
   "execution_count": 1,
   "id": "270599be",
   "metadata": {},
   "outputs": [
    {
     "name": "stderr",
     "output_type": "stream",
     "text": [
      "/home/featurize/work/AI6126project2/env/lib/python3.8/site-packages/tqdm/auto.py:21: TqdmWarning: IProgress not found. Please update jupyter and ipywidgets. See https://ipywidgets.readthedocs.io/en/stable/user_install.html\n",
      "  from .autonotebook import tqdm as notebook_tqdm\n"
     ]
    },
    {
     "name": "stdout",
     "output_type": "stream",
     "text": [
      "Pytorch version 2.1.0+cu118\n",
      "CUDA availability True\n"
     ]
    }
   ],
   "source": [
    "import torch, torchvision\n",
    "print('Pytorch version', torch.__version__)\n",
    "print('CUDA availability',torch.cuda.is_available())"
   ]
  },
  {
   "cell_type": "code",
   "execution_count": 2,
   "id": "0c7237fb",
   "metadata": {},
   "outputs": [
    {
     "name": "stdout",
     "output_type": "stream",
     "text": [
      "MMCV version 2.1.0\n",
      "CUDA version 11.8\n",
      "Compiler version GCC 9.3\n"
     ]
    }
   ],
   "source": [
    "import mmcv\n",
    "from mmcv.ops import get_compiling_cuda_version, get_compiler_version\n",
    "print('MMCV version', mmcv.__version__)\n",
    "print('CUDA version', get_compiling_cuda_version())\n",
    "print('Compiler version', get_compiler_version())"
   ]
  },
  {
   "cell_type": "code",
   "execution_count": 3,
   "id": "038ff8d9",
   "metadata": {},
   "outputs": [
    {
     "name": "stdout",
     "output_type": "stream",
     "text": [
      "MMagic version 1.2.0dev0\n"
     ]
    }
   ],
   "source": [
    "import mmagic\n",
    "print('MMagic version', mmagic.__version__)"
   ]
  }
 ],
 "metadata": {
  "kernelspec": {
   "display_name": "Python 3",
   "language": "python",
   "name": "python3"
  },
  "language_info": {
   "codemirror_mode": {
    "name": "ipython",
    "version": 3
   },
   "file_extension": ".py",
   "mimetype": "text/x-python",
   "name": "python",
   "nbconvert_exporter": "python",
   "pygments_lexer": "ipython3",
   "version": "3.8.20"
  }
 },
 "nbformat": 4,
 "nbformat_minor": 5
}

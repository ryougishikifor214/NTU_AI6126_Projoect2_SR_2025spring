{
 "cells": [
  {
   "cell_type": "code",
   "execution_count": 1,
   "id": "28c63408",
   "metadata": {},
   "outputs": [],
   "source": [
    "from project_config import MMAGIC_DIR_PATH, ROOT_DIR_PATH"
   ]
  },
  {
   "cell_type": "code",
   "execution_count": 2,
   "id": "a5d427aa",
   "metadata": {},
   "outputs": [
    {
     "name": "stdout",
     "output_type": "stream",
     "text": [
      "Requirement already satisfied: pandas==1.3.5 in /home/boogiepop/miniforge3/envs/6126p2/lib/python3.8/site-packages (1.3.5)\n",
      "Requirement already satisfied: python-dateutil>=2.7.3 in /home/boogiepop/miniforge3/envs/6126p2/lib/python3.8/site-packages (from pandas==1.3.5) (2.9.0.post0)\n",
      "Requirement already satisfied: pytz>=2017.3 in /home/boogiepop/miniforge3/envs/6126p2/lib/python3.8/site-packages (from pandas==1.3.5) (2023.4)\n",
      "Requirement already satisfied: numpy>=1.17.3 in /home/boogiepop/miniforge3/envs/6126p2/lib/python3.8/site-packages (from pandas==1.3.5) (1.24.4)\n",
      "Requirement already satisfied: six>=1.5 in /home/boogiepop/miniforge3/envs/6126p2/lib/python3.8/site-packages (from python-dateutil>=2.7.3->pandas==1.3.5) (1.17.0)\n"
     ]
    },
    {
     "data": {
      "text/plain": [
       "'1.3.5'"
      ]
     },
     "execution_count": 2,
     "metadata": {},
     "output_type": "execute_result"
    }
   ],
   "source": [
    "!pip3 install pandas==1.3.5\n",
    "import pandas as pd\n",
    "pd.__version__"
   ]
  },
  {
   "cell_type": "code",
   "execution_count": 3,
   "id": "fefe1b34",
   "metadata": {},
   "outputs": [
    {
     "name": "stdout",
     "output_type": "stream",
     "text": [
      "Looking in indexes: https://download.pytorch.org/whl/cu118\n",
      "Requirement already satisfied: torch==2.1.0 in /home/boogiepop/miniforge3/envs/6126p2/lib/python3.8/site-packages (2.1.0+cu118)\n",
      "Requirement already satisfied: torchvision==0.16.0 in /home/boogiepop/miniforge3/envs/6126p2/lib/python3.8/site-packages (0.16.0+cu118)\n",
      "Requirement already satisfied: torchaudio==2.1.0 in /home/boogiepop/miniforge3/envs/6126p2/lib/python3.8/site-packages (2.1.0+cu118)\n",
      "Requirement already satisfied: filelock in /home/boogiepop/miniforge3/envs/6126p2/lib/python3.8/site-packages (from torch==2.1.0) (3.14.0)\n",
      "Requirement already satisfied: typing-extensions in /home/boogiepop/miniforge3/envs/6126p2/lib/python3.8/site-packages (from torch==2.1.0) (4.13.2)\n",
      "Requirement already satisfied: sympy in /home/boogiepop/miniforge3/envs/6126p2/lib/python3.8/site-packages (from torch==2.1.0) (1.13.1)\n",
      "Requirement already satisfied: networkx in /home/boogiepop/miniforge3/envs/6126p2/lib/python3.8/site-packages (from torch==2.1.0) (3.0)\n",
      "Requirement already satisfied: jinja2 in /home/boogiepop/miniforge3/envs/6126p2/lib/python3.8/site-packages (from torch==2.1.0) (3.1.4)\n",
      "Requirement already satisfied: fsspec in /home/boogiepop/miniforge3/envs/6126p2/lib/python3.8/site-packages (from torch==2.1.0) (2024.6.1)\n",
      "Requirement already satisfied: triton==2.1.0 in /home/boogiepop/miniforge3/envs/6126p2/lib/python3.8/site-packages (from torch==2.1.0) (2.1.0)\n",
      "Requirement already satisfied: numpy in /home/boogiepop/miniforge3/envs/6126p2/lib/python3.8/site-packages (from torchvision==0.16.0) (1.24.4)\n",
      "Requirement already satisfied: requests in /home/boogiepop/miniforge3/envs/6126p2/lib/python3.8/site-packages (from torchvision==0.16.0) (2.28.2)\n",
      "Requirement already satisfied: pillow!=8.3.*,>=5.3.0 in /home/boogiepop/miniforge3/envs/6126p2/lib/python3.8/site-packages (from torchvision==0.16.0) (10.2.0)\n",
      "Requirement already satisfied: MarkupSafe>=2.0 in /home/boogiepop/miniforge3/envs/6126p2/lib/python3.8/site-packages (from jinja2->torch==2.1.0) (2.1.5)\n",
      "Requirement already satisfied: charset-normalizer<4,>=2 in /home/boogiepop/miniforge3/envs/6126p2/lib/python3.8/site-packages (from requests->torchvision==0.16.0) (2.1.1)\n",
      "Requirement already satisfied: idna<4,>=2.5 in /home/boogiepop/miniforge3/envs/6126p2/lib/python3.8/site-packages (from requests->torchvision==0.16.0) (3.4)\n",
      "Requirement already satisfied: urllib3<1.27,>=1.21.1 in /home/boogiepop/miniforge3/envs/6126p2/lib/python3.8/site-packages (from requests->torchvision==0.16.0) (1.26.13)\n",
      "Requirement already satisfied: certifi>=2017.4.17 in /home/boogiepop/miniforge3/envs/6126p2/lib/python3.8/site-packages (from requests->torchvision==0.16.0) (2022.12.7)\n",
      "Requirement already satisfied: mpmath<1.4,>=1.1.0 in /home/boogiepop/miniforge3/envs/6126p2/lib/python3.8/site-packages (from sympy->torch==2.1.0) (1.3.0)\n"
     ]
    }
   ],
   "source": [
    "# !pip3 install torch==1.10.1+cu113 \\\n",
    "#     torchvision==0.11.2+cu113 torchaudio==0.10.1+cu113 \\\n",
    "#         -f https://download.pytorch.org/whl/cu113/torch_stable.html\n",
    "!pip3 install torch==2.1.0 torchvision==0.16.0 torchaudio==2.1.0 \\\n",
    "    --index-url https://download.pytorch.org/whl/cu118"
   ]
  },
  {
   "cell_type": "code",
   "execution_count": 4,
   "id": "9ba3c3db",
   "metadata": {},
   "outputs": [
    {
     "name": "stdout",
     "output_type": "stream",
     "text": [
      "Requirement already satisfied: openmim in /home/boogiepop/miniforge3/envs/6126p2/lib/python3.8/site-packages (0.3.9)\n",
      "Requirement already satisfied: Click in /home/boogiepop/miniforge3/envs/6126p2/lib/python3.8/site-packages (from openmim) (8.1.8)\n",
      "Requirement already satisfied: colorama in /home/boogiepop/miniforge3/envs/6126p2/lib/python3.8/site-packages (from openmim) (0.4.6)\n",
      "Requirement already satisfied: model-index in /home/boogiepop/miniforge3/envs/6126p2/lib/python3.8/site-packages (from openmim) (0.1.11)\n",
      "Requirement already satisfied: opendatalab in /home/boogiepop/miniforge3/envs/6126p2/lib/python3.8/site-packages (from openmim) (0.0.10)\n",
      "Requirement already satisfied: pandas in /home/boogiepop/miniforge3/envs/6126p2/lib/python3.8/site-packages (from openmim) (1.3.5)\n",
      "Requirement already satisfied: pip>=19.3 in /home/boogiepop/miniforge3/envs/6126p2/lib/python3.8/site-packages (from openmim) (24.2)\n",
      "Requirement already satisfied: requests in /home/boogiepop/miniforge3/envs/6126p2/lib/python3.8/site-packages (from openmim) (2.28.2)\n",
      "Requirement already satisfied: rich in /home/boogiepop/miniforge3/envs/6126p2/lib/python3.8/site-packages (from openmim) (13.4.2)\n",
      "Requirement already satisfied: tabulate in /home/boogiepop/miniforge3/envs/6126p2/lib/python3.8/site-packages (from openmim) (0.9.0)\n",
      "Requirement already satisfied: pyyaml in /home/boogiepop/miniforge3/envs/6126p2/lib/python3.8/site-packages (from model-index->openmim) (6.0.2)\n",
      "Requirement already satisfied: markdown in /home/boogiepop/miniforge3/envs/6126p2/lib/python3.8/site-packages (from model-index->openmim) (3.7)\n",
      "Requirement already satisfied: ordered-set in /home/boogiepop/miniforge3/envs/6126p2/lib/python3.8/site-packages (from model-index->openmim) (4.1.0)\n",
      "Requirement already satisfied: pycryptodome in /home/boogiepop/miniforge3/envs/6126p2/lib/python3.8/site-packages (from opendatalab->openmim) (3.22.0)\n",
      "Requirement already satisfied: tqdm in /home/boogiepop/miniforge3/envs/6126p2/lib/python3.8/site-packages (from opendatalab->openmim) (4.65.2)\n",
      "Requirement already satisfied: openxlab in /home/boogiepop/miniforge3/envs/6126p2/lib/python3.8/site-packages (from opendatalab->openmim) (0.1.2)\n",
      "Requirement already satisfied: charset-normalizer<4,>=2 in /home/boogiepop/miniforge3/envs/6126p2/lib/python3.8/site-packages (from requests->openmim) (2.1.1)\n",
      "Requirement already satisfied: idna<4,>=2.5 in /home/boogiepop/miniforge3/envs/6126p2/lib/python3.8/site-packages (from requests->openmim) (3.4)\n",
      "Requirement already satisfied: urllib3<1.27,>=1.21.1 in /home/boogiepop/miniforge3/envs/6126p2/lib/python3.8/site-packages (from requests->openmim) (1.26.13)\n",
      "Requirement already satisfied: certifi>=2017.4.17 in /home/boogiepop/miniforge3/envs/6126p2/lib/python3.8/site-packages (from requests->openmim) (2022.12.7)\n",
      "Requirement already satisfied: python-dateutil>=2.7.3 in /home/boogiepop/miniforge3/envs/6126p2/lib/python3.8/site-packages (from pandas->openmim) (2.9.0.post0)\n",
      "Requirement already satisfied: pytz>=2017.3 in /home/boogiepop/miniforge3/envs/6126p2/lib/python3.8/site-packages (from pandas->openmim) (2023.4)\n",
      "Requirement already satisfied: numpy>=1.17.3 in /home/boogiepop/miniforge3/envs/6126p2/lib/python3.8/site-packages (from pandas->openmim) (1.24.4)\n",
      "Requirement already satisfied: markdown-it-py>=2.2.0 in /home/boogiepop/miniforge3/envs/6126p2/lib/python3.8/site-packages (from rich->openmim) (3.0.0)\n",
      "Requirement already satisfied: pygments<3.0.0,>=2.13.0 in /home/boogiepop/miniforge3/envs/6126p2/lib/python3.8/site-packages (from rich->openmim) (2.19.1)\n",
      "Requirement already satisfied: typing-extensions<5.0,>=4.0.0 in /home/boogiepop/miniforge3/envs/6126p2/lib/python3.8/site-packages (from rich->openmim) (4.13.2)\n",
      "Requirement already satisfied: mdurl~=0.1 in /home/boogiepop/miniforge3/envs/6126p2/lib/python3.8/site-packages (from markdown-it-py>=2.2.0->rich->openmim) (0.1.2)\n",
      "Requirement already satisfied: six>=1.5 in /home/boogiepop/miniforge3/envs/6126p2/lib/python3.8/site-packages (from python-dateutil>=2.7.3->pandas->openmim) (1.17.0)\n",
      "Requirement already satisfied: importlib-metadata>=4.4 in /home/boogiepop/miniforge3/envs/6126p2/lib/python3.8/site-packages (from markdown->model-index->openmim) (8.5.0)\n",
      "Requirement already satisfied: filelock~=3.14.0 in /home/boogiepop/miniforge3/envs/6126p2/lib/python3.8/site-packages (from openxlab->opendatalab->openmim) (3.14.0)\n",
      "Requirement already satisfied: oss2~=2.17.0 in /home/boogiepop/miniforge3/envs/6126p2/lib/python3.8/site-packages (from openxlab->opendatalab->openmim) (2.17.0)\n",
      "Requirement already satisfied: packaging~=24.0 in /home/boogiepop/miniforge3/envs/6126p2/lib/python3.8/site-packages (from openxlab->opendatalab->openmim) (24.2)\n",
      "Requirement already satisfied: setuptools~=60.2.0 in /home/boogiepop/miniforge3/envs/6126p2/lib/python3.8/site-packages (from openxlab->opendatalab->openmim) (60.2.0)\n",
      "Requirement already satisfied: zipp>=3.20 in /home/boogiepop/miniforge3/envs/6126p2/lib/python3.8/site-packages (from importlib-metadata>=4.4->markdown->model-index->openmim) (3.20.2)\n",
      "Requirement already satisfied: crcmod>=1.7 in /home/boogiepop/miniforge3/envs/6126p2/lib/python3.8/site-packages (from oss2~=2.17.0->openxlab->opendatalab->openmim) (1.7)\n",
      "Requirement already satisfied: aliyun-python-sdk-kms>=2.4.1 in /home/boogiepop/miniforge3/envs/6126p2/lib/python3.8/site-packages (from oss2~=2.17.0->openxlab->opendatalab->openmim) (2.16.5)\n",
      "Requirement already satisfied: aliyun-python-sdk-core>=2.13.12 in /home/boogiepop/miniforge3/envs/6126p2/lib/python3.8/site-packages (from oss2~=2.17.0->openxlab->opendatalab->openmim) (2.16.0)\n",
      "Requirement already satisfied: jmespath<1.0.0,>=0.9.3 in /home/boogiepop/miniforge3/envs/6126p2/lib/python3.8/site-packages (from aliyun-python-sdk-core>=2.13.12->oss2~=2.17.0->openxlab->opendatalab->openmim) (0.10.0)\n",
      "Requirement already satisfied: cryptography>=3.0.0 in /home/boogiepop/miniforge3/envs/6126p2/lib/python3.8/site-packages (from aliyun-python-sdk-core>=2.13.12->oss2~=2.17.0->openxlab->opendatalab->openmim) (44.0.2)\n",
      "Requirement already satisfied: cffi>=1.12 in /home/boogiepop/miniforge3/envs/6126p2/lib/python3.8/site-packages (from cryptography>=3.0.0->aliyun-python-sdk-core>=2.13.12->oss2~=2.17.0->openxlab->opendatalab->openmim) (1.17.1)\n",
      "Requirement already satisfied: pycparser in /home/boogiepop/miniforge3/envs/6126p2/lib/python3.8/site-packages (from cffi>=1.12->cryptography>=3.0.0->aliyun-python-sdk-core>=2.13.12->oss2~=2.17.0->openxlab->opendatalab->openmim) (2.22)\n",
      "Looking in links: https://download.openmmlab.com/mmcv/dist/cu118/torch2.1.0/index.html\n",
      "Requirement already satisfied: mmcv==2.1.0 in /home/boogiepop/miniforge3/envs/6126p2/lib/python3.8/site-packages (2.1.0)\n",
      "Requirement already satisfied: addict in /home/boogiepop/miniforge3/envs/6126p2/lib/python3.8/site-packages (from mmcv==2.1.0) (2.4.0)\n",
      "Requirement already satisfied: mmengine>=0.3.0 in /home/boogiepop/miniforge3/envs/6126p2/lib/python3.8/site-packages (from mmcv==2.1.0) (0.10.7)\n",
      "Requirement already satisfied: numpy in /home/boogiepop/miniforge3/envs/6126p2/lib/python3.8/site-packages (from mmcv==2.1.0) (1.24.4)\n",
      "Requirement already satisfied: packaging in /home/boogiepop/miniforge3/envs/6126p2/lib/python3.8/site-packages (from mmcv==2.1.0) (24.2)\n",
      "Requirement already satisfied: Pillow in /home/boogiepop/miniforge3/envs/6126p2/lib/python3.8/site-packages (from mmcv==2.1.0) (10.2.0)\n",
      "Requirement already satisfied: pyyaml in /home/boogiepop/miniforge3/envs/6126p2/lib/python3.8/site-packages (from mmcv==2.1.0) (6.0.2)\n",
      "Requirement already satisfied: yapf in /home/boogiepop/miniforge3/envs/6126p2/lib/python3.8/site-packages (from mmcv==2.1.0) (0.43.0)\n",
      "Requirement already satisfied: opencv-python>=3 in /home/boogiepop/miniforge3/envs/6126p2/lib/python3.8/site-packages (from mmcv==2.1.0) (4.11.0.86)\n",
      "Requirement already satisfied: matplotlib in /home/boogiepop/miniforge3/envs/6126p2/lib/python3.8/site-packages (from mmengine>=0.3.0->mmcv==2.1.0) (3.7.5)\n",
      "Requirement already satisfied: rich in /home/boogiepop/miniforge3/envs/6126p2/lib/python3.8/site-packages (from mmengine>=0.3.0->mmcv==2.1.0) (13.4.2)\n",
      "Requirement already satisfied: termcolor in /home/boogiepop/miniforge3/envs/6126p2/lib/python3.8/site-packages (from mmengine>=0.3.0->mmcv==2.1.0) (2.4.0)\n",
      "Requirement already satisfied: platformdirs>=3.5.1 in /home/boogiepop/miniforge3/envs/6126p2/lib/python3.8/site-packages (from yapf->mmcv==2.1.0) (4.3.6)\n",
      "Requirement already satisfied: tomli>=2.0.1 in /home/boogiepop/miniforge3/envs/6126p2/lib/python3.8/site-packages (from yapf->mmcv==2.1.0) (2.2.1)\n",
      "Requirement already satisfied: contourpy>=1.0.1 in /home/boogiepop/miniforge3/envs/6126p2/lib/python3.8/site-packages (from matplotlib->mmengine>=0.3.0->mmcv==2.1.0) (1.1.1)\n",
      "Requirement already satisfied: cycler>=0.10 in /home/boogiepop/miniforge3/envs/6126p2/lib/python3.8/site-packages (from matplotlib->mmengine>=0.3.0->mmcv==2.1.0) (0.12.1)\n",
      "Requirement already satisfied: fonttools>=4.22.0 in /home/boogiepop/miniforge3/envs/6126p2/lib/python3.8/site-packages (from matplotlib->mmengine>=0.3.0->mmcv==2.1.0) (4.57.0)\n",
      "Requirement already satisfied: kiwisolver>=1.0.1 in /home/boogiepop/miniforge3/envs/6126p2/lib/python3.8/site-packages (from matplotlib->mmengine>=0.3.0->mmcv==2.1.0) (1.4.7)\n",
      "Requirement already satisfied: pyparsing>=2.3.1 in /home/boogiepop/miniforge3/envs/6126p2/lib/python3.8/site-packages (from matplotlib->mmengine>=0.3.0->mmcv==2.1.0) (3.1.4)\n",
      "Requirement already satisfied: python-dateutil>=2.7 in /home/boogiepop/miniforge3/envs/6126p2/lib/python3.8/site-packages (from matplotlib->mmengine>=0.3.0->mmcv==2.1.0) (2.9.0.post0)\n",
      "Requirement already satisfied: importlib-resources>=3.2.0 in /home/boogiepop/miniforge3/envs/6126p2/lib/python3.8/site-packages (from matplotlib->mmengine>=0.3.0->mmcv==2.1.0) (6.4.5)\n",
      "Requirement already satisfied: markdown-it-py>=2.2.0 in /home/boogiepop/miniforge3/envs/6126p2/lib/python3.8/site-packages (from rich->mmengine>=0.3.0->mmcv==2.1.0) (3.0.0)\n",
      "Requirement already satisfied: pygments<3.0.0,>=2.13.0 in /home/boogiepop/miniforge3/envs/6126p2/lib/python3.8/site-packages (from rich->mmengine>=0.3.0->mmcv==2.1.0) (2.19.1)\n",
      "Requirement already satisfied: typing-extensions<5.0,>=4.0.0 in /home/boogiepop/miniforge3/envs/6126p2/lib/python3.8/site-packages (from rich->mmengine>=0.3.0->mmcv==2.1.0) (4.13.2)\n",
      "Requirement already satisfied: zipp>=3.1.0 in /home/boogiepop/miniforge3/envs/6126p2/lib/python3.8/site-packages (from importlib-resources>=3.2.0->matplotlib->mmengine>=0.3.0->mmcv==2.1.0) (3.20.2)\n",
      "Requirement already satisfied: mdurl~=0.1 in /home/boogiepop/miniforge3/envs/6126p2/lib/python3.8/site-packages (from markdown-it-py>=2.2.0->rich->mmengine>=0.3.0->mmcv==2.1.0) (0.1.2)\n",
      "Requirement already satisfied: six>=1.5 in /home/boogiepop/miniforge3/envs/6126p2/lib/python3.8/site-packages (from python-dateutil>=2.7->matplotlib->mmengine>=0.3.0->mmcv==2.1.0) (1.17.0)\n",
      "Looking in links: https://download.openmmlab.com/mmcv/dist/cu118/torch2.1.0/index.html\n",
      "Requirement already satisfied: mmengine in /home/boogiepop/miniforge3/envs/6126p2/lib/python3.8/site-packages (0.10.7)\n",
      "Requirement already satisfied: addict in /home/boogiepop/miniforge3/envs/6126p2/lib/python3.8/site-packages (from mmengine) (2.4.0)\n",
      "Requirement already satisfied: matplotlib in /home/boogiepop/miniforge3/envs/6126p2/lib/python3.8/site-packages (from mmengine) (3.7.5)\n",
      "Requirement already satisfied: numpy in /home/boogiepop/miniforge3/envs/6126p2/lib/python3.8/site-packages (from mmengine) (1.24.4)\n",
      "Requirement already satisfied: pyyaml in /home/boogiepop/miniforge3/envs/6126p2/lib/python3.8/site-packages (from mmengine) (6.0.2)\n",
      "Requirement already satisfied: rich in /home/boogiepop/miniforge3/envs/6126p2/lib/python3.8/site-packages (from mmengine) (13.4.2)\n",
      "Requirement already satisfied: termcolor in /home/boogiepop/miniforge3/envs/6126p2/lib/python3.8/site-packages (from mmengine) (2.4.0)\n",
      "Requirement already satisfied: yapf in /home/boogiepop/miniforge3/envs/6126p2/lib/python3.8/site-packages (from mmengine) (0.43.0)\n",
      "Requirement already satisfied: opencv-python>=3 in /home/boogiepop/miniforge3/envs/6126p2/lib/python3.8/site-packages (from mmengine) (4.11.0.86)\n",
      "Requirement already satisfied: contourpy>=1.0.1 in /home/boogiepop/miniforge3/envs/6126p2/lib/python3.8/site-packages (from matplotlib->mmengine) (1.1.1)\n",
      "Requirement already satisfied: cycler>=0.10 in /home/boogiepop/miniforge3/envs/6126p2/lib/python3.8/site-packages (from matplotlib->mmengine) (0.12.1)\n",
      "Requirement already satisfied: fonttools>=4.22.0 in /home/boogiepop/miniforge3/envs/6126p2/lib/python3.8/site-packages (from matplotlib->mmengine) (4.57.0)\n",
      "Requirement already satisfied: kiwisolver>=1.0.1 in /home/boogiepop/miniforge3/envs/6126p2/lib/python3.8/site-packages (from matplotlib->mmengine) (1.4.7)\n",
      "Requirement already satisfied: packaging>=20.0 in /home/boogiepop/miniforge3/envs/6126p2/lib/python3.8/site-packages (from matplotlib->mmengine) (24.2)\n",
      "Requirement already satisfied: pillow>=6.2.0 in /home/boogiepop/miniforge3/envs/6126p2/lib/python3.8/site-packages (from matplotlib->mmengine) (10.2.0)\n",
      "Requirement already satisfied: pyparsing>=2.3.1 in /home/boogiepop/miniforge3/envs/6126p2/lib/python3.8/site-packages (from matplotlib->mmengine) (3.1.4)\n",
      "Requirement already satisfied: python-dateutil>=2.7 in /home/boogiepop/miniforge3/envs/6126p2/lib/python3.8/site-packages (from matplotlib->mmengine) (2.9.0.post0)\n",
      "Requirement already satisfied: importlib-resources>=3.2.0 in /home/boogiepop/miniforge3/envs/6126p2/lib/python3.8/site-packages (from matplotlib->mmengine) (6.4.5)\n",
      "Requirement already satisfied: markdown-it-py>=2.2.0 in /home/boogiepop/miniforge3/envs/6126p2/lib/python3.8/site-packages (from rich->mmengine) (3.0.0)\n",
      "Requirement already satisfied: pygments<3.0.0,>=2.13.0 in /home/boogiepop/miniforge3/envs/6126p2/lib/python3.8/site-packages (from rich->mmengine) (2.19.1)\n",
      "Requirement already satisfied: typing-extensions<5.0,>=4.0.0 in /home/boogiepop/miniforge3/envs/6126p2/lib/python3.8/site-packages (from rich->mmengine) (4.13.2)\n",
      "Requirement already satisfied: platformdirs>=3.5.1 in /home/boogiepop/miniforge3/envs/6126p2/lib/python3.8/site-packages (from yapf->mmengine) (4.3.6)\n",
      "Requirement already satisfied: tomli>=2.0.1 in /home/boogiepop/miniforge3/envs/6126p2/lib/python3.8/site-packages (from yapf->mmengine) (2.2.1)\n",
      "Requirement already satisfied: zipp>=3.1.0 in /home/boogiepop/miniforge3/envs/6126p2/lib/python3.8/site-packages (from importlib-resources>=3.2.0->matplotlib->mmengine) (3.20.2)\n",
      "Requirement already satisfied: mdurl~=0.1 in /home/boogiepop/miniforge3/envs/6126p2/lib/python3.8/site-packages (from markdown-it-py>=2.2.0->rich->mmengine) (0.1.2)\n",
      "Requirement already satisfied: six>=1.5 in /home/boogiepop/miniforge3/envs/6126p2/lib/python3.8/site-packages (from python-dateutil>=2.7->matplotlib->mmengine) (1.17.0)\n"
     ]
    }
   ],
   "source": [
    "!pip3 install -U openmim\n",
    "!mim install \"mmcv==2.1.0\"\n",
    "!mim install 'mmengine'"
   ]
  },
  {
   "cell_type": "code",
   "execution_count": 5,
   "id": "14d5da98",
   "metadata": {},
   "outputs": [
    {
     "name": "stdout",
     "output_type": "stream",
     "text": [
      "Requirement already satisfied: opencv-contrib-python in /home/boogiepop/miniforge3/envs/6126p2/lib/python3.8/site-packages (4.11.0.86)\n",
      "Requirement already satisfied: pillow in /home/boogiepop/miniforge3/envs/6126p2/lib/python3.8/site-packages (10.2.0)\n",
      "Requirement already satisfied: matplotlib in /home/boogiepop/miniforge3/envs/6126p2/lib/python3.8/site-packages (3.7.5)\n",
      "Requirement already satisfied: seaborn in /home/boogiepop/miniforge3/envs/6126p2/lib/python3.8/site-packages (0.13.2)\n",
      "Requirement already satisfied: tqdm in /home/boogiepop/miniforge3/envs/6126p2/lib/python3.8/site-packages (4.65.2)\n",
      "Collecting albumentations\n",
      "  Downloading albumentations-1.4.18-py3-none-any.whl.metadata (32 kB)\n",
      "Requirement already satisfied: numpy>=1.17.0 in /home/boogiepop/miniforge3/envs/6126p2/lib/python3.8/site-packages (from opencv-contrib-python) (1.24.4)\n",
      "Requirement already satisfied: contourpy>=1.0.1 in /home/boogiepop/miniforge3/envs/6126p2/lib/python3.8/site-packages (from matplotlib) (1.1.1)\n",
      "Requirement already satisfied: cycler>=0.10 in /home/boogiepop/miniforge3/envs/6126p2/lib/python3.8/site-packages (from matplotlib) (0.12.1)\n",
      "Requirement already satisfied: fonttools>=4.22.0 in /home/boogiepop/miniforge3/envs/6126p2/lib/python3.8/site-packages (from matplotlib) (4.57.0)\n",
      "Requirement already satisfied: kiwisolver>=1.0.1 in /home/boogiepop/miniforge3/envs/6126p2/lib/python3.8/site-packages (from matplotlib) (1.4.7)\n",
      "Requirement already satisfied: packaging>=20.0 in /home/boogiepop/miniforge3/envs/6126p2/lib/python3.8/site-packages (from matplotlib) (24.2)\n",
      "Requirement already satisfied: pyparsing>=2.3.1 in /home/boogiepop/miniforge3/envs/6126p2/lib/python3.8/site-packages (from matplotlib) (3.1.4)\n",
      "Requirement already satisfied: python-dateutil>=2.7 in /home/boogiepop/miniforge3/envs/6126p2/lib/python3.8/site-packages (from matplotlib) (2.9.0.post0)\n",
      "Requirement already satisfied: importlib-resources>=3.2.0 in /home/boogiepop/miniforge3/envs/6126p2/lib/python3.8/site-packages (from matplotlib) (6.4.5)\n",
      "Requirement already satisfied: pandas>=1.2 in /home/boogiepop/miniforge3/envs/6126p2/lib/python3.8/site-packages (from seaborn) (1.3.5)\n",
      "Requirement already satisfied: scipy>=1.10.0 in /home/boogiepop/miniforge3/envs/6126p2/lib/python3.8/site-packages (from albumentations) (1.10.1)\n",
      "Requirement already satisfied: scikit-image>=0.21.0 in /home/boogiepop/miniforge3/envs/6126p2/lib/python3.8/site-packages (from albumentations) (0.21.0)\n",
      "Requirement already satisfied: PyYAML in /home/boogiepop/miniforge3/envs/6126p2/lib/python3.8/site-packages (from albumentations) (6.0.2)\n",
      "Collecting pydantic>=2.7.0 (from albumentations)\n",
      "  Downloading pydantic-2.10.6-py3-none-any.whl.metadata (30 kB)\n",
      "Collecting albucore==0.0.17 (from albumentations)\n",
      "  Downloading albucore-0.0.17-py3-none-any.whl.metadata (3.1 kB)\n",
      "Collecting eval-type-backport (from albumentations)\n",
      "  Downloading eval_type_backport-0.2.2-py3-none-any.whl.metadata (2.2 kB)\n",
      "Requirement already satisfied: opencv-python-headless>=4.9.0.80 in /home/boogiepop/miniforge3/envs/6126p2/lib/python3.8/site-packages (from albumentations) (4.11.0.86)\n",
      "Requirement already satisfied: typing-extensions>=4.9.0 in /home/boogiepop/miniforge3/envs/6126p2/lib/python3.8/site-packages (from albumentations) (4.13.2)\n",
      "Requirement already satisfied: zipp>=3.1.0 in /home/boogiepop/miniforge3/envs/6126p2/lib/python3.8/site-packages (from importlib-resources>=3.2.0->matplotlib) (3.20.2)\n",
      "Requirement already satisfied: pytz>=2017.3 in /home/boogiepop/miniforge3/envs/6126p2/lib/python3.8/site-packages (from pandas>=1.2->seaborn) (2023.4)\n",
      "Collecting annotated-types>=0.6.0 (from pydantic>=2.7.0->albumentations)\n",
      "  Downloading annotated_types-0.7.0-py3-none-any.whl.metadata (15 kB)\n",
      "Collecting pydantic-core==2.27.2 (from pydantic>=2.7.0->albumentations)\n",
      "  Downloading pydantic_core-2.27.2-cp38-cp38-manylinux_2_17_x86_64.manylinux2014_x86_64.whl.metadata (6.6 kB)\n",
      "Requirement already satisfied: six>=1.5 in /home/boogiepop/miniforge3/envs/6126p2/lib/python3.8/site-packages (from python-dateutil>=2.7->matplotlib) (1.17.0)\n",
      "Requirement already satisfied: networkx>=2.8 in /home/boogiepop/miniforge3/envs/6126p2/lib/python3.8/site-packages (from scikit-image>=0.21.0->albumentations) (3.0)\n",
      "Requirement already satisfied: imageio>=2.27 in /home/boogiepop/miniforge3/envs/6126p2/lib/python3.8/site-packages (from scikit-image>=0.21.0->albumentations) (2.35.1)\n",
      "Requirement already satisfied: tifffile>=2022.8.12 in /home/boogiepop/miniforge3/envs/6126p2/lib/python3.8/site-packages (from scikit-image>=0.21.0->albumentations) (2023.7.10)\n",
      "Requirement already satisfied: PyWavelets>=1.1.1 in /home/boogiepop/miniforge3/envs/6126p2/lib/python3.8/site-packages (from scikit-image>=0.21.0->albumentations) (1.4.1)\n",
      "Requirement already satisfied: lazy_loader>=0.2 in /home/boogiepop/miniforge3/envs/6126p2/lib/python3.8/site-packages (from scikit-image>=0.21.0->albumentations) (0.4)\n",
      "Downloading albumentations-1.4.18-py3-none-any.whl (224 kB)\n",
      "Downloading albucore-0.0.17-py3-none-any.whl (10 kB)\n",
      "Downloading pydantic-2.10.6-py3-none-any.whl (431 kB)\n",
      "Downloading pydantic_core-2.27.2-cp38-cp38-manylinux_2_17_x86_64.manylinux2014_x86_64.whl (2.0 MB)\n",
      "\u001b[2K   \u001b[90m━━━━━━━━━━━━━━━━━━━━━━━━━━━━━━━━━━━━━━━━\u001b[0m \u001b[32m2.0/2.0 MB\u001b[0m \u001b[31m27.2 MB/s\u001b[0m eta \u001b[36m0:00:00\u001b[0m\n",
      "\u001b[?25hDownloading eval_type_backport-0.2.2-py3-none-any.whl (5.8 kB)\n",
      "Downloading annotated_types-0.7.0-py3-none-any.whl (13 kB)\n",
      "Installing collected packages: pydantic-core, eval-type-backport, annotated-types, pydantic, albucore, albumentations\n",
      "Successfully installed albucore-0.0.17 albumentations-1.4.18 annotated-types-0.7.0 eval-type-backport-0.2.2 pydantic-2.10.6 pydantic-core-2.27.2\n",
      "Looking in links: https://download.openmmlab.com/mmcv/dist/cu118/torch2.1.0/index.html\n",
      "Requirement already satisfied: mmdet>=3.0.0 in /home/boogiepop/miniforge3/envs/6126p2/lib/python3.8/site-packages (3.3.0)\n",
      "Ignoring mmcv: markers 'extra == \"mim\"' don't match your environment\n",
      "Ignoring mmengine: markers 'extra == \"mim\"' don't match your environment\n",
      "Requirement already satisfied: matplotlib in /home/boogiepop/miniforge3/envs/6126p2/lib/python3.8/site-packages (from mmdet>=3.0.0) (3.7.5)\n",
      "Requirement already satisfied: numpy in /home/boogiepop/miniforge3/envs/6126p2/lib/python3.8/site-packages (from mmdet>=3.0.0) (1.24.4)\n",
      "Requirement already satisfied: pycocotools in /home/boogiepop/miniforge3/envs/6126p2/lib/python3.8/site-packages (from mmdet>=3.0.0) (2.0.7)\n",
      "Requirement already satisfied: scipy in /home/boogiepop/miniforge3/envs/6126p2/lib/python3.8/site-packages (from mmdet>=3.0.0) (1.10.1)\n",
      "Requirement already satisfied: shapely in /home/boogiepop/miniforge3/envs/6126p2/lib/python3.8/site-packages (from mmdet>=3.0.0) (2.0.7)\n",
      "Requirement already satisfied: six in /home/boogiepop/miniforge3/envs/6126p2/lib/python3.8/site-packages (from mmdet>=3.0.0) (1.17.0)\n",
      "Requirement already satisfied: terminaltables in /home/boogiepop/miniforge3/envs/6126p2/lib/python3.8/site-packages (from mmdet>=3.0.0) (3.1.10)\n",
      "Requirement already satisfied: tqdm in /home/boogiepop/miniforge3/envs/6126p2/lib/python3.8/site-packages (from mmdet>=3.0.0) (4.65.2)\n",
      "Requirement already satisfied: contourpy>=1.0.1 in /home/boogiepop/miniforge3/envs/6126p2/lib/python3.8/site-packages (from matplotlib->mmdet>=3.0.0) (1.1.1)\n",
      "Requirement already satisfied: cycler>=0.10 in /home/boogiepop/miniforge3/envs/6126p2/lib/python3.8/site-packages (from matplotlib->mmdet>=3.0.0) (0.12.1)\n",
      "Requirement already satisfied: fonttools>=4.22.0 in /home/boogiepop/miniforge3/envs/6126p2/lib/python3.8/site-packages (from matplotlib->mmdet>=3.0.0) (4.57.0)\n",
      "Requirement already satisfied: kiwisolver>=1.0.1 in /home/boogiepop/miniforge3/envs/6126p2/lib/python3.8/site-packages (from matplotlib->mmdet>=3.0.0) (1.4.7)\n",
      "Requirement already satisfied: packaging>=20.0 in /home/boogiepop/miniforge3/envs/6126p2/lib/python3.8/site-packages (from matplotlib->mmdet>=3.0.0) (24.2)\n",
      "Requirement already satisfied: pillow>=6.2.0 in /home/boogiepop/miniforge3/envs/6126p2/lib/python3.8/site-packages (from matplotlib->mmdet>=3.0.0) (10.2.0)\n",
      "Requirement already satisfied: pyparsing>=2.3.1 in /home/boogiepop/miniforge3/envs/6126p2/lib/python3.8/site-packages (from matplotlib->mmdet>=3.0.0) (3.1.4)\n",
      "Requirement already satisfied: python-dateutil>=2.7 in /home/boogiepop/miniforge3/envs/6126p2/lib/python3.8/site-packages (from matplotlib->mmdet>=3.0.0) (2.9.0.post0)\n",
      "Requirement already satisfied: importlib-resources>=3.2.0 in /home/boogiepop/miniforge3/envs/6126p2/lib/python3.8/site-packages (from matplotlib->mmdet>=3.0.0) (6.4.5)\n",
      "Requirement already satisfied: zipp>=3.1.0 in /home/boogiepop/miniforge3/envs/6126p2/lib/python3.8/site-packages (from importlib-resources>=3.2.0->matplotlib->mmdet>=3.0.0) (3.20.2)\n"
     ]
    }
   ],
   "source": [
    "!pip3 install opencv-contrib-python pillow matplotlib seaborn tqdm albumentations\n",
    "!mim install 'mmdet>=3.0.0'"
   ]
  },
  {
   "cell_type": "code",
   "execution_count": 6,
   "id": "2f80b5cc",
   "metadata": {},
   "outputs": [],
   "source": [
    "# !rm -rf {projectCFG.MMAGIC_DIR_PATH}\n",
    "# !git clone https://github.com/open-mmlab/mmagic.git {projectCFG.MMAGIC_DIR_PATH}"
   ]
  },
  {
   "cell_type": "code",
   "execution_count": 7,
   "id": "01b882a7",
   "metadata": {},
   "outputs": [
    {
     "name": "stdout",
     "output_type": "stream",
     "text": [
      "Using pip 24.2 from /home/boogiepop/miniforge3/envs/6126p2/lib/python3.8/site-packages/pip (python 3.8)\n",
      "Obtaining file:///home/boogiepop/codebase/AI6126project2/mmagic\n",
      "  Preparing metadata (setup.py) ... \u001b[?25l  Running command python setup.py egg_info\n",
      "  /home/boogiepop/miniforge3/envs/6126p2/lib/python3.8/site-packages/setuptools/dist.py:493: UserWarning: Normalizing '1.2.0dev0' to '1.2.0.dev0'\n",
      "    warnings.warn(tmpl.format(**locals()))\n",
      "  running egg_info\n",
      "  creating /tmp/pip-pip-egg-info-1yhp2lps/mmagic.egg-info\n",
      "  writing manifest file '/tmp/pip-pip-egg-info-1yhp2lps/mmagic.egg-info/SOURCES.txt'\n",
      "  warning: no files found matching 'mmagic/.mim/VERSION'\n",
      "  writing manifest file '/tmp/pip-pip-egg-info-1yhp2lps/mmagic.egg-info/SOURCES.txt'\n",
      "\u001b[?25hdone\n",
      "Requirement already satisfied: av in /home/boogiepop/miniforge3/envs/6126p2/lib/python3.8/site-packages (from mmagic==1.2.0.dev0) (12.3.0)\n",
      "Requirement already satisfied: click in /home/boogiepop/miniforge3/envs/6126p2/lib/python3.8/site-packages (from mmagic==1.2.0.dev0) (8.1.8)\n",
      "Requirement already satisfied: controlnet_aux in /home/boogiepop/miniforge3/envs/6126p2/lib/python3.8/site-packages (from mmagic==1.2.0.dev0) (0.0.9)\n",
      "Requirement already satisfied: diffusers>=0.23.0 in /home/boogiepop/miniforge3/envs/6126p2/lib/python3.8/site-packages (from mmagic==1.2.0.dev0) (0.33.1)\n",
      "Requirement already satisfied: einops in /home/boogiepop/miniforge3/envs/6126p2/lib/python3.8/site-packages (from mmagic==1.2.0.dev0) (0.8.1)\n",
      "Requirement already satisfied: face-alignment<=1.3.4 in /home/boogiepop/miniforge3/envs/6126p2/lib/python3.8/site-packages (from mmagic==1.2.0.dev0) (1.3.4)\n",
      "Requirement already satisfied: facexlib in /home/boogiepop/miniforge3/envs/6126p2/lib/python3.8/site-packages (from mmagic==1.2.0.dev0) (0.3.0)\n",
      "Requirement already satisfied: lmdb in /home/boogiepop/miniforge3/envs/6126p2/lib/python3.8/site-packages (from mmagic==1.2.0.dev0) (1.6.2)\n",
      "Requirement already satisfied: lpips in /home/boogiepop/miniforge3/envs/6126p2/lib/python3.8/site-packages (from mmagic==1.2.0.dev0) (0.1.4)\n",
      "Requirement already satisfied: mediapipe in /home/boogiepop/miniforge3/envs/6126p2/lib/python3.8/site-packages (from mmagic==1.2.0.dev0) (0.10.11)\n",
      "Requirement already satisfied: numpy in /home/boogiepop/miniforge3/envs/6126p2/lib/python3.8/site-packages (from mmagic==1.2.0.dev0) (1.24.4)\n",
      "Requirement already satisfied: opencv-python!=4.5.5.62,!=4.5.5.64 in /home/boogiepop/miniforge3/envs/6126p2/lib/python3.8/site-packages (from mmagic==1.2.0.dev0) (4.11.0.86)\n",
      "Requirement already satisfied: pandas in /home/boogiepop/miniforge3/envs/6126p2/lib/python3.8/site-packages (from mmagic==1.2.0.dev0) (1.3.5)\n",
      "Requirement already satisfied: Pillow in /home/boogiepop/miniforge3/envs/6126p2/lib/python3.8/site-packages (from mmagic==1.2.0.dev0) (10.2.0)\n",
      "Requirement already satisfied: resize_right in /home/boogiepop/miniforge3/envs/6126p2/lib/python3.8/site-packages (from mmagic==1.2.0.dev0) (0.0.2)\n",
      "Requirement already satisfied: tensorboard in /home/boogiepop/miniforge3/envs/6126p2/lib/python3.8/site-packages (from mmagic==1.2.0.dev0) (2.14.0)\n",
      "Requirement already satisfied: transformers>=4.27.4 in /home/boogiepop/miniforge3/envs/6126p2/lib/python3.8/site-packages (from mmagic==1.2.0.dev0) (4.46.3)\n",
      "Requirement already satisfied: importlib-metadata in /home/boogiepop/miniforge3/envs/6126p2/lib/python3.8/site-packages (from diffusers>=0.23.0->mmagic==1.2.0.dev0) (8.5.0)\n",
      "Requirement already satisfied: filelock in /home/boogiepop/miniforge3/envs/6126p2/lib/python3.8/site-packages (from diffusers>=0.23.0->mmagic==1.2.0.dev0) (3.14.0)\n",
      "Requirement already satisfied: huggingface-hub>=0.27.0 in /home/boogiepop/miniforge3/envs/6126p2/lib/python3.8/site-packages (from diffusers>=0.23.0->mmagic==1.2.0.dev0) (0.30.2)\n",
      "Requirement already satisfied: regex!=2019.12.17 in /home/boogiepop/miniforge3/envs/6126p2/lib/python3.8/site-packages (from diffusers>=0.23.0->mmagic==1.2.0.dev0) (2024.11.6)\n",
      "Requirement already satisfied: requests in /home/boogiepop/miniforge3/envs/6126p2/lib/python3.8/site-packages (from diffusers>=0.23.0->mmagic==1.2.0.dev0) (2.28.2)\n",
      "Requirement already satisfied: safetensors>=0.3.1 in /home/boogiepop/miniforge3/envs/6126p2/lib/python3.8/site-packages (from diffusers>=0.23.0->mmagic==1.2.0.dev0) (0.5.3)\n",
      "Requirement already satisfied: torch in /home/boogiepop/miniforge3/envs/6126p2/lib/python3.8/site-packages (from face-alignment<=1.3.4->mmagic==1.2.0.dev0) (2.1.0+cu118)\n",
      "Requirement already satisfied: scipy>=0.17 in /home/boogiepop/miniforge3/envs/6126p2/lib/python3.8/site-packages (from face-alignment<=1.3.4->mmagic==1.2.0.dev0) (1.10.1)\n",
      "Requirement already satisfied: scikit-image in /home/boogiepop/miniforge3/envs/6126p2/lib/python3.8/site-packages (from face-alignment<=1.3.4->mmagic==1.2.0.dev0) (0.21.0)\n",
      "Requirement already satisfied: tqdm in /home/boogiepop/miniforge3/envs/6126p2/lib/python3.8/site-packages (from face-alignment<=1.3.4->mmagic==1.2.0.dev0) (4.65.2)\n",
      "Requirement already satisfied: numba in /home/boogiepop/miniforge3/envs/6126p2/lib/python3.8/site-packages (from face-alignment<=1.3.4->mmagic==1.2.0.dev0) (0.58.1)\n",
      "Requirement already satisfied: packaging>=20.0 in /home/boogiepop/miniforge3/envs/6126p2/lib/python3.8/site-packages (from transformers>=4.27.4->mmagic==1.2.0.dev0) (24.2)\n",
      "Requirement already satisfied: pyyaml>=5.1 in /home/boogiepop/miniforge3/envs/6126p2/lib/python3.8/site-packages (from transformers>=4.27.4->mmagic==1.2.0.dev0) (6.0.2)\n",
      "Requirement already satisfied: tokenizers<0.21,>=0.20 in /home/boogiepop/miniforge3/envs/6126p2/lib/python3.8/site-packages (from transformers>=4.27.4->mmagic==1.2.0.dev0) (0.20.3)\n",
      "Requirement already satisfied: opencv-python-headless in /home/boogiepop/miniforge3/envs/6126p2/lib/python3.8/site-packages (from controlnet_aux->mmagic==1.2.0.dev0) (4.11.0.86)\n",
      "Requirement already satisfied: torchvision in /home/boogiepop/miniforge3/envs/6126p2/lib/python3.8/site-packages (from controlnet_aux->mmagic==1.2.0.dev0) (0.16.0+cu118)\n",
      "Requirement already satisfied: timm<=0.6.7 in /home/boogiepop/miniforge3/envs/6126p2/lib/python3.8/site-packages (from controlnet_aux->mmagic==1.2.0.dev0) (0.6.7)\n",
      "Requirement already satisfied: filterpy in /home/boogiepop/miniforge3/envs/6126p2/lib/python3.8/site-packages (from facexlib->mmagic==1.2.0.dev0) (1.4.5)\n",
      "Requirement already satisfied: absl-py in /home/boogiepop/miniforge3/envs/6126p2/lib/python3.8/site-packages (from mediapipe->mmagic==1.2.0.dev0) (2.2.2)\n",
      "Requirement already satisfied: attrs>=19.1.0 in /home/boogiepop/miniforge3/envs/6126p2/lib/python3.8/site-packages (from mediapipe->mmagic==1.2.0.dev0) (25.3.0)\n",
      "Requirement already satisfied: flatbuffers>=2.0 in /home/boogiepop/miniforge3/envs/6126p2/lib/python3.8/site-packages (from mediapipe->mmagic==1.2.0.dev0) (25.2.10)\n",
      "Requirement already satisfied: jax in /home/boogiepop/miniforge3/envs/6126p2/lib/python3.8/site-packages (from mediapipe->mmagic==1.2.0.dev0) (0.4.13)\n",
      "Requirement already satisfied: jaxlib in /home/boogiepop/miniforge3/envs/6126p2/lib/python3.8/site-packages (from mediapipe->mmagic==1.2.0.dev0) (0.4.13)\n",
      "Requirement already satisfied: matplotlib in /home/boogiepop/miniforge3/envs/6126p2/lib/python3.8/site-packages (from mediapipe->mmagic==1.2.0.dev0) (3.7.5)\n",
      "Requirement already satisfied: opencv-contrib-python in /home/boogiepop/miniforge3/envs/6126p2/lib/python3.8/site-packages (from mediapipe->mmagic==1.2.0.dev0) (4.11.0.86)\n",
      "Requirement already satisfied: protobuf<4,>=3.11 in /home/boogiepop/miniforge3/envs/6126p2/lib/python3.8/site-packages (from mediapipe->mmagic==1.2.0.dev0) (3.20.3)\n",
      "Requirement already satisfied: sounddevice>=0.4.4 in /home/boogiepop/miniforge3/envs/6126p2/lib/python3.8/site-packages (from mediapipe->mmagic==1.2.0.dev0) (0.5.1)\n",
      "Requirement already satisfied: python-dateutil>=2.7.3 in /home/boogiepop/miniforge3/envs/6126p2/lib/python3.8/site-packages (from pandas->mmagic==1.2.0.dev0) (2.9.0.post0)\n",
      "Requirement already satisfied: pytz>=2017.3 in /home/boogiepop/miniforge3/envs/6126p2/lib/python3.8/site-packages (from pandas->mmagic==1.2.0.dev0) (2023.4)\n",
      "Requirement already satisfied: grpcio>=1.48.2 in /home/boogiepop/miniforge3/envs/6126p2/lib/python3.8/site-packages (from tensorboard->mmagic==1.2.0.dev0) (1.70.0)\n",
      "Requirement already satisfied: google-auth<3,>=1.6.3 in /home/boogiepop/miniforge3/envs/6126p2/lib/python3.8/site-packages (from tensorboard->mmagic==1.2.0.dev0) (2.38.0)\n",
      "Requirement already satisfied: google-auth-oauthlib<1.1,>=0.5 in /home/boogiepop/miniforge3/envs/6126p2/lib/python3.8/site-packages (from tensorboard->mmagic==1.2.0.dev0) (1.0.0)\n",
      "Requirement already satisfied: markdown>=2.6.8 in /home/boogiepop/miniforge3/envs/6126p2/lib/python3.8/site-packages (from tensorboard->mmagic==1.2.0.dev0) (3.7)\n",
      "Requirement already satisfied: setuptools>=41.0.0 in /home/boogiepop/miniforge3/envs/6126p2/lib/python3.8/site-packages (from tensorboard->mmagic==1.2.0.dev0) (60.2.0)\n",
      "Requirement already satisfied: tensorboard-data-server<0.8.0,>=0.7.0 in /home/boogiepop/miniforge3/envs/6126p2/lib/python3.8/site-packages (from tensorboard->mmagic==1.2.0.dev0) (0.7.2)\n",
      "Requirement already satisfied: werkzeug>=1.0.1 in /home/boogiepop/miniforge3/envs/6126p2/lib/python3.8/site-packages (from tensorboard->mmagic==1.2.0.dev0) (3.0.6)\n",
      "Requirement already satisfied: wheel>=0.26 in /home/boogiepop/miniforge3/envs/6126p2/lib/python3.8/site-packages (from tensorboard->mmagic==1.2.0.dev0) (0.44.0)\n",
      "Requirement already satisfied: cachetools<6.0,>=2.0.0 in /home/boogiepop/miniforge3/envs/6126p2/lib/python3.8/site-packages (from google-auth<3,>=1.6.3->tensorboard->mmagic==1.2.0.dev0) (5.5.2)\n",
      "Requirement already satisfied: pyasn1-modules>=0.2.1 in /home/boogiepop/miniforge3/envs/6126p2/lib/python3.8/site-packages (from google-auth<3,>=1.6.3->tensorboard->mmagic==1.2.0.dev0) (0.4.2)\n",
      "Requirement already satisfied: rsa<5,>=3.1.4 in /home/boogiepop/miniforge3/envs/6126p2/lib/python3.8/site-packages (from google-auth<3,>=1.6.3->tensorboard->mmagic==1.2.0.dev0) (4.9)\n",
      "Requirement already satisfied: requests-oauthlib>=0.7.0 in /home/boogiepop/miniforge3/envs/6126p2/lib/python3.8/site-packages (from google-auth-oauthlib<1.1,>=0.5->tensorboard->mmagic==1.2.0.dev0) (2.0.0)\n",
      "Requirement already satisfied: fsspec>=2023.5.0 in /home/boogiepop/miniforge3/envs/6126p2/lib/python3.8/site-packages (from huggingface-hub>=0.27.0->diffusers>=0.23.0->mmagic==1.2.0.dev0) (2024.6.1)\n",
      "Requirement already satisfied: typing-extensions>=3.7.4.3 in /home/boogiepop/miniforge3/envs/6126p2/lib/python3.8/site-packages (from huggingface-hub>=0.27.0->diffusers>=0.23.0->mmagic==1.2.0.dev0) (4.13.2)\n",
      "Requirement already satisfied: zipp>=3.20 in /home/boogiepop/miniforge3/envs/6126p2/lib/python3.8/site-packages (from importlib-metadata->diffusers>=0.23.0->mmagic==1.2.0.dev0) (3.20.2)\n",
      "Requirement already satisfied: six>=1.5 in /home/boogiepop/miniforge3/envs/6126p2/lib/python3.8/site-packages (from python-dateutil>=2.7.3->pandas->mmagic==1.2.0.dev0) (1.17.0)\n",
      "Requirement already satisfied: charset-normalizer<4,>=2 in /home/boogiepop/miniforge3/envs/6126p2/lib/python3.8/site-packages (from requests->diffusers>=0.23.0->mmagic==1.2.0.dev0) (2.1.1)\n",
      "Requirement already satisfied: idna<4,>=2.5 in /home/boogiepop/miniforge3/envs/6126p2/lib/python3.8/site-packages (from requests->diffusers>=0.23.0->mmagic==1.2.0.dev0) (3.4)\n",
      "Requirement already satisfied: urllib3<1.27,>=1.21.1 in /home/boogiepop/miniforge3/envs/6126p2/lib/python3.8/site-packages (from requests->diffusers>=0.23.0->mmagic==1.2.0.dev0) (1.26.13)\n",
      "Requirement already satisfied: certifi>=2017.4.17 in /home/boogiepop/miniforge3/envs/6126p2/lib/python3.8/site-packages (from requests->diffusers>=0.23.0->mmagic==1.2.0.dev0) (2022.12.7)\n",
      "Requirement already satisfied: CFFI>=1.0 in /home/boogiepop/miniforge3/envs/6126p2/lib/python3.8/site-packages (from sounddevice>=0.4.4->mediapipe->mmagic==1.2.0.dev0) (1.17.1)\n",
      "Requirement already satisfied: sympy in /home/boogiepop/miniforge3/envs/6126p2/lib/python3.8/site-packages (from torch->face-alignment<=1.3.4->mmagic==1.2.0.dev0) (1.13.1)\n",
      "Requirement already satisfied: networkx in /home/boogiepop/miniforge3/envs/6126p2/lib/python3.8/site-packages (from torch->face-alignment<=1.3.4->mmagic==1.2.0.dev0) (3.0)\n",
      "Requirement already satisfied: jinja2 in /home/boogiepop/miniforge3/envs/6126p2/lib/python3.8/site-packages (from torch->face-alignment<=1.3.4->mmagic==1.2.0.dev0) (3.1.4)\n",
      "Requirement already satisfied: triton==2.1.0 in /home/boogiepop/miniforge3/envs/6126p2/lib/python3.8/site-packages (from torch->face-alignment<=1.3.4->mmagic==1.2.0.dev0) (2.1.0)\n",
      "Requirement already satisfied: MarkupSafe>=2.1.1 in /home/boogiepop/miniforge3/envs/6126p2/lib/python3.8/site-packages (from werkzeug>=1.0.1->tensorboard->mmagic==1.2.0.dev0) (2.1.5)\n",
      "Requirement already satisfied: ml-dtypes>=0.1.0 in /home/boogiepop/miniforge3/envs/6126p2/lib/python3.8/site-packages (from jax->mediapipe->mmagic==1.2.0.dev0) (0.2.0)\n",
      "Requirement already satisfied: opt-einsum in /home/boogiepop/miniforge3/envs/6126p2/lib/python3.8/site-packages (from jax->mediapipe->mmagic==1.2.0.dev0) (3.4.0)\n",
      "Requirement already satisfied: contourpy>=1.0.1 in /home/boogiepop/miniforge3/envs/6126p2/lib/python3.8/site-packages (from matplotlib->mediapipe->mmagic==1.2.0.dev0) (1.1.1)\n",
      "Requirement already satisfied: cycler>=0.10 in /home/boogiepop/miniforge3/envs/6126p2/lib/python3.8/site-packages (from matplotlib->mediapipe->mmagic==1.2.0.dev0) (0.12.1)\n",
      "Requirement already satisfied: fonttools>=4.22.0 in /home/boogiepop/miniforge3/envs/6126p2/lib/python3.8/site-packages (from matplotlib->mediapipe->mmagic==1.2.0.dev0) (4.57.0)\n",
      "Requirement already satisfied: kiwisolver>=1.0.1 in /home/boogiepop/miniforge3/envs/6126p2/lib/python3.8/site-packages (from matplotlib->mediapipe->mmagic==1.2.0.dev0) (1.4.7)\n",
      "Requirement already satisfied: pyparsing>=2.3.1 in /home/boogiepop/miniforge3/envs/6126p2/lib/python3.8/site-packages (from matplotlib->mediapipe->mmagic==1.2.0.dev0) (3.1.4)\n",
      "Requirement already satisfied: importlib-resources>=3.2.0 in /home/boogiepop/miniforge3/envs/6126p2/lib/python3.8/site-packages (from matplotlib->mediapipe->mmagic==1.2.0.dev0) (6.4.5)\n",
      "Requirement already satisfied: llvmlite<0.42,>=0.41.0dev0 in /home/boogiepop/miniforge3/envs/6126p2/lib/python3.8/site-packages (from numba->face-alignment<=1.3.4->mmagic==1.2.0.dev0) (0.41.1)\n",
      "Requirement already satisfied: imageio>=2.27 in /home/boogiepop/miniforge3/envs/6126p2/lib/python3.8/site-packages (from scikit-image->face-alignment<=1.3.4->mmagic==1.2.0.dev0) (2.35.1)\n",
      "Requirement already satisfied: tifffile>=2022.8.12 in /home/boogiepop/miniforge3/envs/6126p2/lib/python3.8/site-packages (from scikit-image->face-alignment<=1.3.4->mmagic==1.2.0.dev0) (2023.7.10)\n",
      "Requirement already satisfied: PyWavelets>=1.1.1 in /home/boogiepop/miniforge3/envs/6126p2/lib/python3.8/site-packages (from scikit-image->face-alignment<=1.3.4->mmagic==1.2.0.dev0) (1.4.1)\n",
      "Requirement already satisfied: lazy_loader>=0.2 in /home/boogiepop/miniforge3/envs/6126p2/lib/python3.8/site-packages (from scikit-image->face-alignment<=1.3.4->mmagic==1.2.0.dev0) (0.4)\n",
      "Requirement already satisfied: pycparser in /home/boogiepop/miniforge3/envs/6126p2/lib/python3.8/site-packages (from CFFI>=1.0->sounddevice>=0.4.4->mediapipe->mmagic==1.2.0.dev0) (2.22)\n",
      "Requirement already satisfied: pyasn1<0.7.0,>=0.6.1 in /home/boogiepop/miniforge3/envs/6126p2/lib/python3.8/site-packages (from pyasn1-modules>=0.2.1->google-auth<3,>=1.6.3->tensorboard->mmagic==1.2.0.dev0) (0.6.1)\n",
      "Requirement already satisfied: oauthlib>=3.0.0 in /home/boogiepop/miniforge3/envs/6126p2/lib/python3.8/site-packages (from requests-oauthlib>=0.7.0->google-auth-oauthlib<1.1,>=0.5->tensorboard->mmagic==1.2.0.dev0) (3.2.2)\n",
      "Requirement already satisfied: mpmath<1.4,>=1.1.0 in /home/boogiepop/miniforge3/envs/6126p2/lib/python3.8/site-packages (from sympy->torch->face-alignment<=1.3.4->mmagic==1.2.0.dev0) (1.3.0)\n",
      "Installing collected packages: mmagic\n",
      "  Attempting uninstall: mmagic\n",
      "    Found existing installation: mmagic 1.2.0.dev0\n",
      "    Uninstalling mmagic-1.2.0.dev0:\n",
      "      Removing file or directory /home/boogiepop/miniforge3/envs/6126p2/lib/python3.8/site-packages/mmagic.egg-link\n",
      "      Removing pth entries from /home/boogiepop/miniforge3/envs/6126p2/lib/python3.8/site-packages/easy-install.pth:\n",
      "      Removing entry: /home/boogiepop/codebase/AI6126project2/mmagic\n",
      "      Successfully uninstalled mmagic-1.2.0.dev0\n",
      "\u001b[33m  DEPRECATION: Legacy editable install of mmagic==1.2.0.dev0 from file:///home/boogiepop/codebase/AI6126project2/mmagic (setup.py develop) is deprecated. pip 25.0 will enforce this behaviour change. A possible replacement is to add a pyproject.toml or enable --use-pep517, and use setuptools >= 64. If the resulting installation is not behaving as expected, try using --config-settings editable_mode=compat. Please consult the setuptools documentation for more information. Discussion can be found at https://github.com/pypa/pip/issues/11457\u001b[0m\u001b[33m\n",
      "\u001b[0m  Running setup.py develop for mmagic\n",
      "    Running command python setup.py develop\n",
      "    /home/boogiepop/miniforge3/envs/6126p2/lib/python3.8/site-packages/setuptools/dist.py:493: UserWarning: Normalizing '1.2.0dev0' to '1.2.0.dev0'\n",
      "      warnings.warn(tmpl.format(**locals()))\n",
      "    running develop\n",
      "    /home/boogiepop/miniforge3/envs/6126p2/lib/python3.8/site-packages/setuptools/command/easy_install.py:156: EasyInstallDeprecationWarning: easy_install command is deprecated. Use build and pip and other standards-based tools.\n",
      "      warnings.warn(\n",
      "    /home/boogiepop/miniforge3/envs/6126p2/lib/python3.8/site-packages/setuptools/command/install.py:34: SetuptoolsDeprecationWarning: setup.py install is deprecated. Use build and pip and other standards-based tools.\n",
      "      warnings.warn(\n",
      "    running egg_info\n",
      "    warning: no files found matching 'mmagic/.mim/VERSION'\n",
      "    writing manifest file 'mmagic.egg-info/SOURCES.txt'\n",
      "    /home/boogiepop/miniforge3/envs/6126p2/lib/python3.8/site-packages/torch/utils/cpp_extension.py:502: UserWarning: Attempted to use ninja as the BuildExtension backend but we could not find ninja.. Falling back to using the slow distutils backend.\n",
      "      warnings.warn(msg.format('we could not find ninja.'))\n",
      "    running build_ext\n",
      "Successfully installed mmagic\n"
     ]
    }
   ],
   "source": [
    "import os\n",
    "os.chdir(MMAGIC_DIR_PATH)\n",
    "!pip3 install -e . -v"
   ]
  },
  {
   "cell_type": "code",
   "execution_count": 8,
   "id": "270599be",
   "metadata": {},
   "outputs": [
    {
     "name": "stderr",
     "output_type": "stream",
     "text": [
      "/home/boogiepop/miniforge3/envs/6126p2/lib/python3.8/site-packages/tqdm/auto.py:21: TqdmWarning: IProgress not found. Please update jupyter and ipywidgets. See https://ipywidgets.readthedocs.io/en/stable/user_install.html\n",
      "  from .autonotebook import tqdm as notebook_tqdm\n"
     ]
    },
    {
     "name": "stdout",
     "output_type": "stream",
     "text": [
      "Pytorch version 2.1.0+cu118\n",
      "CUDA availability True\n"
     ]
    }
   ],
   "source": [
    "import torch, torchvision\n",
    "print('Pytorch version', torch.__version__)\n",
    "print('CUDA availability',torch.cuda.is_available())"
   ]
  },
  {
   "cell_type": "code",
   "execution_count": 9,
   "id": "0c7237fb",
   "metadata": {},
   "outputs": [
    {
     "name": "stdout",
     "output_type": "stream",
     "text": [
      "MMCV version 2.1.0\n",
      "CUDA version 11.8\n",
      "Compiler version GCC 9.3\n"
     ]
    }
   ],
   "source": [
    "import mmcv\n",
    "from mmcv.ops import get_compiling_cuda_version, get_compiler_version\n",
    "print('MMCV version', mmcv.__version__)\n",
    "print('CUDA version', get_compiling_cuda_version())\n",
    "print('Compiler version', get_compiler_version())"
   ]
  },
  {
   "cell_type": "code",
   "execution_count": 10,
   "id": "038ff8d9",
   "metadata": {},
   "outputs": [
    {
     "name": "stdout",
     "output_type": "stream",
     "text": [
      "MMagic version 1.2.0dev0\n"
     ]
    }
   ],
   "source": [
    "import mmagic\n",
    "print('MMagic version', mmagic.__version__)"
   ]
  },
  {
   "cell_type": "code",
   "execution_count": 11,
   "id": "4ea98596",
   "metadata": {},
   "outputs": [
    {
     "name": "stdout",
     "output_type": "stream",
     "text": [
      "[INFO] Cleaning in directory: /home/boogiepop/codebase/AI6126project2\n",
      "[CMD] find /home/boogiepop/codebase/AI6126project2 -iname '__MACOSX' -exec rm -rf {} +\n",
      "[CMD] find /home/boogiepop/codebase/AI6126project2 -iname '.DS_Store' -exec rm -rf {} +\n",
      "[CMD] find /home/boogiepop/codebase/AI6126project2 -iname '.ipynb_checkpoints' -exec rm -rf {} +\n"
     ]
    }
   ],
   "source": [
    "from utils.clean_junk_files import clean_junk_files\n",
    "clean_junk_files(ROOT_DIR_PATH)"
   ]
  }
 ],
 "metadata": {
  "kernelspec": {
   "display_name": "6126p2",
   "language": "python",
   "name": "python3"
  },
  "language_info": {
   "codemirror_mode": {
    "name": "ipython",
    "version": 3
   },
   "file_extension": ".py",
   "mimetype": "text/x-python",
   "name": "python",
   "nbconvert_exporter": "python",
   "pygments_lexer": "ipython3",
   "version": "3.8.20"
  }
 },
 "nbformat": 4,
 "nbformat_minor": 5
}

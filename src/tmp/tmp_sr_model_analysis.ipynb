{
 "cells": [
  {
   "cell_type": "code",
   "execution_count": 1,
   "id": "389215ec",
   "metadata": {},
   "outputs": [],
   "source": [
    "import os\n",
    "import sys\n",
    "sys.path.append(os.path.abspath(os.path.join(\"..\")))\n",
    "import warnings\n",
    "warnings.filterwarnings(\"ignore\", category=UserWarning)\n",
    "\n",
    "from project_config import MMAGIC_CONFIGS_DIR_PATH\n",
    "from utils.analyze_models import inference_nflops_nparams"
   ]
  },
  {
   "cell_type": "code",
   "execution_count": 2,
   "id": "ef59e1cb",
   "metadata": {},
   "outputs": [],
   "source": [
    "import os\n",
    "# model_method_name = \"ttsr/ttsr-rec_x4c64b16_1xb9-200k_CUFED.py\"\n",
    "# model_method_name = \"rdn/rdn_x3c64b16_1xb16-1000k_div2k.py\"\n",
    "# model_method_name = \"dic/dic_gan-x8c48b6_4xb2-500k_celeba-hq.py\"\n",
    "# model_method_name = \"liif/liif-edsr-norm_c64b16_1xb16-1000k_div2k.py\"\n",
    "# model_method_name = \"real_esrgan/realesrgan_c64b23g32_4xb12-lr1e-4-400k_df2k-ost.py\"\n",
    "model_method_name = \"swinir/swinir_gan-x2s64w8d6e180_8xb4-lr1e-4-600k_df2k-ost.py\"\n",
    "model_cfg_path = os.path.join(MMAGIC_CONFIGS_DIR_PATH, model_method_name)\n",
    "\n",
    "inputs = [\n",
    "    model_cfg_path,\n",
    "    '--shape',\n",
    "    '3',\n",
    "    '128',\n",
    "    '128',\n",
    "]"
   ]
  },
  {
   "cell_type": "code",
   "execution_count": 3,
   "id": "e6807ecb",
   "metadata": {},
   "outputs": [
    {
     "name": "stderr",
     "output_type": "stream",
     "text": [
      "/home/boogiepop/miniforge3/envs/6126p2/lib/python3.8/site-packages/tqdm/auto.py:21: TqdmWarning: IProgress not found. Please update jupyter and ipywidgets. See https://ipywidgets.readthedocs.io/en/stable/user_install.html\n",
      "  from .autonotebook import tqdm as notebook_tqdm\n"
     ]
    },
    {
     "data": {
      "text/html": [
       "<pre style=\"white-space:pre;overflow-x:auto;line-height:normal;font-family:Menlo,'DejaVu Sans Mono',consolas,'Courier New',monospace\"></pre>\n"
      ],
      "text/plain": []
     },
     "metadata": {},
     "output_type": "display_data"
    },
    {
     "name": "stdout",
     "output_type": "stream",
     "text": [
      "==============================\n",
      "Input shape: (3, 128, 128)\n",
      "Flops: 0.208T\n",
      "Params: 11.679M\n",
      "==============================\n",
      "\n"
     ]
    },
    {
     "data": {
      "text/plain": [
       "('0.208T', '11.679M')"
      ]
     },
     "execution_count": 3,
     "metadata": {},
     "output_type": "execute_result"
    }
   ],
   "source": [
    "inference_nflops_nparams(inputs)"
   ]
  }
 ],
 "metadata": {
  "kernelspec": {
   "display_name": "6126p2",
   "language": "python",
   "name": "python3"
  },
  "language_info": {
   "codemirror_mode": {
    "name": "ipython",
    "version": 3
   },
   "file_extension": ".py",
   "mimetype": "text/x-python",
   "name": "python",
   "nbconvert_exporter": "python",
   "pygments_lexer": "ipython3",
   "version": "3.8.20"
  }
 },
 "nbformat": 4,
 "nbformat_minor": 5
}

{
 "cells": [
  {
   "cell_type": "code",
   "execution_count": null,
   "id": "389215ec",
   "metadata": {},
   "outputs": [],
   "source": [
    "import os\n",
    "import sys\n",
    "sys.path.append(os.path.abspath(os.path.join(\"..\")))\n",
    "import warnings\n",
    "warnings.filterwarnings(\"ignore\", category=UserWarning)\n",
    "\n",
    "from project_config import MMAGIC_CONFIGS_DIR_PATH, ASSETS_CONFIGS_SWINIR_DIR_PATH\n",
    "from utils.analyze_models import inference_nflops_nparams"
   ]
  },
  {
   "cell_type": "code",
   "execution_count": null,
   "id": "5dd1c215",
   "metadata": {},
   "outputs": [],
   "source": [
    "import os.path as osp\n",
    "config_name = \"swinir_20250420.py\"\n",
    "config_path = osp.join(ASSETS_CONFIGS_SWINIR_DIR_PATH, config_name)\n",
    "\n",
    "inputs = [\n",
    "    config_path,\n",
    "    '--shape',\n",
    "    '3',\n",
    "    '128',\n",
    "    '128',\n",
    "]\n",
    "inference_nflops_nparams(inputs)"
   ]
  },
  {
   "cell_type": "code",
   "execution_count": null,
   "id": "ef59e1cb",
   "metadata": {},
   "outputs": [],
   "source": [
    "import os\n",
    "# model_method_name = \"ttsr/ttsr-rec_x4c64b16_1xb9-200k_CUFED.py\"\n",
    "# model_method_name = \"rdn/rdn_x3c64b16_1xb16-1000k_div2k.py\"\n",
    "# model_method_name = \"dic/dic_gan-x8c48b6_4xb2-500k_celeba-hq.py\"\n",
    "# model_method_name = \"liif/liif-edsr-norm_c64b16_1xb16-1000k_div2k.py\"\n",
    "# model_method_name = \"real_esrgan/realesrgan_c64b23g32_4xb12-lr1e-4-400k_df2k-ost.py\"\n",
    "model_method_name = \"swinir/swinir_x4s64w8d4e60_8xb4-lr2e-4-500k_div2k.py\"\n",
    "model_cfg_path = os.path.join(MMAGIC_CONFIGS_DIR_PATH, model_method_name)\n",
    "\n",
    "inputs = [\n",
    "    model_cfg_path,\n",
    "    '--shape',\n",
    "    '3',\n",
    "    '128',\n",
    "    '128',\n",
    "]"
   ]
  },
  {
   "cell_type": "code",
   "execution_count": null,
   "id": "e6807ecb",
   "metadata": {},
   "outputs": [],
   "source": [
    "inference_nflops_nparams(inputs)"
   ]
  }
 ],
 "metadata": {
  "kernelspec": {
   "display_name": "Python 3",
   "language": "python",
   "name": "python3"
  },
  "language_info": {
   "codemirror_mode": {
    "name": "ipython",
    "version": 3
   },
   "file_extension": ".py",
   "mimetype": "text/x-python",
   "name": "python",
   "nbconvert_exporter": "python",
   "pygments_lexer": "ipython3",
   "version": "3.8.20"
  }
 },
 "nbformat": 4,
 "nbformat_minor": 5
}

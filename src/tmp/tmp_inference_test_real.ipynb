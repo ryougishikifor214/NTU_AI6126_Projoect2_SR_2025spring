{
 "cells": [
  {
   "cell_type": "code",
   "execution_count": 1,
   "id": "7f7c76e7",
   "metadata": {},
   "outputs": [
    {
     "name": "stdout",
     "output_type": "stream",
     "text": [
      "Directories created:/home/featurize/res/AI6126project2\n",
      "Directories created:/home/featurize/res/AI6126project2/edsr\n",
      "Directories created:/home/featurize/res/AI6126project2/swinir\n",
      "Directories created:/home/featurize/res/AI6126project2/srgan_resnet\n"
     ]
    }
   ],
   "source": [
    "import os\n",
    "import sys\n",
    "import shutil\n",
    "\n",
    "sys.path.append(os.path.abspath(\"..\"))\n",
    "\n",
    "from project_config import RES_DIR_PATH, DATASET_TEST_REAL_DIR_PATH\n",
    "\n",
    "res_test_real_path = os.path.join(RES_DIR_PATH, \"test_real\")\n",
    "if os.path.exists(res_test_real_path):\n",
    "    shutil.rmtree(res_test_real_path)\n",
    "os.makedirs(res_test_real_path, exist_ok=False)"
   ]
  },
  {
   "cell_type": "code",
   "execution_count": 2,
   "id": "4d790e78",
   "metadata": {},
   "outputs": [
    {
     "name": "stderr",
     "output_type": "stream",
     "text": [
      "/home/featurize/work/AI6126project2/env/lib/python3.8/site-packages/tqdm/auto.py:21: TqdmWarning: IProgress not found. Please update jupyter and ipywidgets. See https://ipywidgets.readthedocs.io/en/stable/user_install.html\n",
      "  from .autonotebook import tqdm as notebook_tqdm\n",
      "/home/featurize/work/AI6126project2/mmagic/mmagic/apis/mmagic_inferencer.py:186: UserWarning: real_esrgan's default config is overridden by /home/featurize/work/AI6126project2/mmagic/configs/real_esrgan/realesrnet_c64b23g32_4xb12-lr2e-4-1000k_df2k-ost.py\n",
      "  warnings.warn(\n",
      "/home/featurize/work/AI6126project2/env/lib/python3.8/site-packages/albumentations/check_version.py:49: UserWarning: Error fetching version info <urlopen error _ssl.c:1132: The handshake operation timed out>\n",
      "  data = fetch_version_info()\n"
     ]
    },
    {
     "name": "stdout",
     "output_type": "stream",
     "text": [
      "Loads checkpoint by http backend from path: https://download.openmmlab.com/mmediting/restorers/real_esrgan/realesrnet_c64b23g32_12x4_lr2e-4_1000k_df2k_ost_20210816-4ae3b5a4.pth\n",
      "The model and loaded state dict do not match exactly\n",
      "\n",
      "unexpected key in source state_dict: step_counter\n",
      "\n",
      "04/24 12:25:10 - mmengine - \u001b[5m\u001b[4m\u001b[33mWARNING\u001b[0m - Failed to search registry with scope \"mmagic\" in the \"function\" registry tree. As a workaround, the current \"function\" registry in \"mmengine\" is used to build instance. This may cause unexpected failure when running the built modules. Please check whether \"mmagic\" is a correct scope, or whether the registry is initialized.\n"
     ]
    },
    {
     "name": "stderr",
     "output_type": "stream",
     "text": [
      "/home/featurize/work/AI6126project2/env/lib/python3.8/site-packages/mmengine/visualization/visualizer.py:196: UserWarning: Failed to add <class 'mmengine.visualization.vis_backend.LocalVisBackend'>, please provide the `save_dir` argument.\n",
      "  warnings.warn(f'Failed to add {vis_backend.__class__}, '\n",
      "  0%|          | 0/6 [00:00<?, ?it/s]"
     ]
    },
    {
     "name": "stdout",
     "output_type": "stream",
     "text": [
      "04/24 12:25:10 - mmengine - \u001b[5m\u001b[4m\u001b[33mWARNING\u001b[0m - Cannot find key 'gt_img' in data sample.\n"
     ]
    },
    {
     "name": "stderr",
     "output_type": "stream",
     "text": [
      "100%|██████████| 6/6 [00:13<00:00,  2.18s/it]\n"
     ]
    }
   ],
   "source": [
    "from mmagic.apis import MMagicInferencer\n",
    "from project_config import MMAGIC_CONFIGS_DIR_PATH\n",
    "from utils.inference import inference_single_img\n",
    "\n",
    "config_file = os.path.join(MMAGIC_CONFIGS_DIR_PATH, \"real_esrgan\", \"realesrnet_c64b23g32_4xb12-lr2e-4-1000k_df2k-ost.py\")\n",
    "\n",
    "inferencer = MMagicInferencer(\n",
    "    model_name='real_esrgan',\n",
    "    model_config= config_file\n",
    ")\n",
    "from tqdm import tqdm\n",
    "for lq_file in tqdm([f for f in os.listdir(DATASET_TEST_REAL_DIR_PATH) if f.endswith('.png')]):\n",
    "    lq_file = os.path.join(DATASET_TEST_REAL_DIR_PATH, lq_file)\n",
    "    inference_single_img(inferencer, lq_file, res_test_real_path)"
   ]
  }
 ],
 "metadata": {
  "kernelspec": {
   "display_name": "Python 3",
   "language": "python",
   "name": "python3"
  },
  "language_info": {
   "codemirror_mode": {
    "name": "ipython",
    "version": 3
   },
   "file_extension": ".py",
   "mimetype": "text/x-python",
   "name": "python",
   "nbconvert_exporter": "python",
   "pygments_lexer": "ipython3",
   "version": "3.8.20"
  }
 },
 "nbformat": 4,
 "nbformat_minor": 5
}

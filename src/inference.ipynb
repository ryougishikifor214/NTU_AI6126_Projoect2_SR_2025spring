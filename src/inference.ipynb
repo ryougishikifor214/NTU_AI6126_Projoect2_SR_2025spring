{
 "cells": [
  {
   "cell_type": "code",
   "execution_count": 1,
   "id": "5096353c",
   "metadata": {},
   "outputs": [
    {
     "name": "stderr",
     "output_type": "stream",
     "text": [
      "/home/featurize/work/AI6126project2/env/lib/python3.8/site-packages/tqdm/auto.py:21: TqdmWarning: IProgress not found. Please update jupyter and ipywidgets. See https://ipywidgets.readthedocs.io/en/stable/user_install.html\n",
      "  from .autonotebook import tqdm as notebook_tqdm\n"
     ]
    }
   ],
   "source": [
    "from utils.inference import inference_dir\n",
    "from project_config import DATASET_TEST_DIR_PATH, DATASET_TEST_REAL_DIR_PATH, MODELS, RES_MODEL_DIR_PATHS\n",
    "    "
   ]
  },
  {
   "cell_type": "code",
   "execution_count": 2,
   "id": "ecc2cd05",
   "metadata": {},
   "outputs": [
    {
     "name": "stderr",
     "output_type": "stream",
     "text": [
      "/home/featurize/work/AI6126project2/mmagic/mmagic/apis/mmagic_inferencer.py:186: UserWarning: edsr's default config is overridden by /home/featurize/work/AI6126project2/assets/checkpoints/edsr/config.py\n",
      "  warnings.warn(\n",
      "/home/featurize/work/AI6126project2/mmagic/mmagic/apis/mmagic_inferencer.py:193: UserWarning: edsr's default checkpoint is overridden by /home/featurize/work/AI6126project2/assets/checkpoints/edsr/checkpoint.pth\n",
      "  warnings.warn(\n",
      "/home/featurize/work/AI6126project2/env/lib/python3.8/site-packages/albumentations/__init__.py:13: UserWarning: A new version of Albumentations is available: 2.0.5 (you have 1.4.18). Upgrade using: pip install -U albumentations. To disable automatic update checks, set the environment variable NO_ALBUMENTATIONS_UPDATE to 1.\n",
      "  check_for_updates()\n"
     ]
    },
    {
     "name": "stdout",
     "output_type": "stream",
     "text": [
      "Loads checkpoint by local backend from path: /home/featurize/work/AI6126project2/assets/checkpoints/edsr/checkpoint.pth\n",
      "04/24 12:25:08 - mmengine - \u001b[5m\u001b[4m\u001b[33mWARNING\u001b[0m - Failed to search registry with scope \"mmagic\" in the \"function\" registry tree. As a workaround, the current \"function\" registry in \"mmengine\" is used to build instance. This may cause unexpected failure when running the built modules. Please check whether \"mmagic\" is a correct scope, or whether the registry is initialized.\n",
      "Loads checkpoint by local backend from path: /home/featurize/work/AI6126project2/assets/checkpoints/edsr/checkpoint.pth\n"
     ]
    },
    {
     "name": "stderr",
     "output_type": "stream",
     "text": [
      "/home/featurize/work/AI6126project2/env/lib/python3.8/site-packages/mmengine/visualization/visualizer.py:196: UserWarning: Failed to add <class 'mmagic.visualization.vis_backend.WandbVisBackend'>, please provide the `save_dir` argument.\n",
      "  warnings.warn(f'Failed to add {vis_backend.__class__}, '\n"
     ]
    },
    {
     "name": "stdout",
     "output_type": "stream",
     "text": [
      "#Params of /home/featurize/work/AI6126project2/assets/checkpoints/edsr/config.py and /home/featurize/work/AI6126project2/assets/checkpoints/edsr/checkpoint.pth:  1517571\n"
     ]
    },
    {
     "name": "stderr",
     "output_type": "stream",
     "text": [
      "  0%|          | 0/400 [00:00<?, ?it/s]"
     ]
    },
    {
     "name": "stdout",
     "output_type": "stream",
     "text": [
      "04/24 12:25:09 - mmengine - \u001b[5m\u001b[4m\u001b[33mWARNING\u001b[0m - Cannot find key 'gt_img' in data sample.\n"
     ]
    },
    {
     "name": "stderr",
     "output_type": "stream",
     "text": [
      "100%|██████████| 400/400 [00:22<00:00, 17.97it/s]\n",
      "/home/featurize/work/AI6126project2/mmagic/mmagic/apis/mmagic_inferencer.py:186: UserWarning: swinir's default config is overridden by /home/featurize/work/AI6126project2/assets/checkpoints/swinir/config.py\n",
      "  warnings.warn(\n",
      "/home/featurize/work/AI6126project2/mmagic/mmagic/apis/mmagic_inferencer.py:193: UserWarning: swinir's default checkpoint is overridden by /home/featurize/work/AI6126project2/assets/checkpoints/swinir/checkpoint.pth\n",
      "  warnings.warn(\n",
      "/home/featurize/work/AI6126project2/env/lib/python3.8/site-packages/torch/functional.py:504: UserWarning: torch.meshgrid: in an upcoming release, it will be required to pass the indexing argument. (Triggered internally at ../aten/src/ATen/native/TensorShape.cpp:3526.)\n",
      "  return _VF.meshgrid(tensors, **kwargs)  # type: ignore[attr-defined]\n"
     ]
    },
    {
     "name": "stdout",
     "output_type": "stream",
     "text": [
      "Loads checkpoint by local backend from path: /home/featurize/work/AI6126project2/assets/checkpoints/swinir/checkpoint.pth\n",
      "Loads checkpoint by local backend from path: /home/featurize/work/AI6126project2/assets/checkpoints/swinir/checkpoint.pth\n",
      "#Params of /home/featurize/work/AI6126project2/assets/checkpoints/swinir/config.py and /home/featurize/work/AI6126project2/assets/checkpoints/swinir/checkpoint.pth:  929628\n"
     ]
    },
    {
     "name": "stderr",
     "output_type": "stream",
     "text": [
      "100%|██████████| 400/400 [00:50<00:00,  7.88it/s]\n",
      "/home/featurize/work/AI6126project2/mmagic/mmagic/apis/mmagic_inferencer.py:186: UserWarning: srgan_resnet's default config is overridden by /home/featurize/work/AI6126project2/assets/checkpoints/srgan_resnet/config.py\n",
      "  warnings.warn(\n",
      "/home/featurize/work/AI6126project2/mmagic/mmagic/apis/mmagic_inferencer.py:193: UserWarning: srgan_resnet's default checkpoint is overridden by /home/featurize/work/AI6126project2/assets/checkpoints/srgan_resnet/checkpoint.pth\n",
      "  warnings.warn(\n",
      "/home/featurize/work/AI6126project2/env/lib/python3.8/site-packages/torchvision/models/_utils.py:208: UserWarning: The parameter 'pretrained' is deprecated since 0.13 and may be removed in the future, please use 'weights' instead.\n",
      "  warnings.warn(\n",
      "/home/featurize/work/AI6126project2/env/lib/python3.8/site-packages/torchvision/models/_utils.py:223: UserWarning: Arguments other than a weight enum or `None` for 'weights' are deprecated since 0.13 and may be removed in the future. The current behavior is equivalent to passing `weights=VGG19_Weights.IMAGENET1K_V1`. You can also use `weights=VGG19_Weights.DEFAULT` to get the most up-to-date weights.\n",
      "  warnings.warn(msg)\n"
     ]
    },
    {
     "name": "stdout",
     "output_type": "stream",
     "text": [
      "Loads checkpoint by local backend from path: /home/featurize/work/AI6126project2/assets/checkpoints/srgan_resnet/checkpoint.pth\n",
      "Loads checkpoint by local backend from path: /home/featurize/work/AI6126project2/assets/checkpoints/srgan_resnet/checkpoint.pth\n",
      "#Params of /home/featurize/work/AI6126project2/assets/checkpoints/srgan_resnet/config.py and /home/featurize/work/AI6126project2/assets/checkpoints/srgan_resnet/checkpoint.pth:  36041356\n"
     ]
    },
    {
     "name": "stderr",
     "output_type": "stream",
     "text": [
      "100%|██████████| 400/400 [00:14<00:00, 28.06it/s]\n",
      "/home/featurize/work/AI6126project2/mmagic/mmagic/apis/mmagic_inferencer.py:186: UserWarning: edsr's default config is overridden by /home/featurize/work/AI6126project2/assets/checkpoints/edsr/config.py\n",
      "  warnings.warn(\n",
      "/home/featurize/work/AI6126project2/mmagic/mmagic/apis/mmagic_inferencer.py:193: UserWarning: edsr's default checkpoint is overridden by /home/featurize/work/AI6126project2/assets/checkpoints/edsr/checkpoint.pth\n",
      "  warnings.warn(\n"
     ]
    },
    {
     "name": "stdout",
     "output_type": "stream",
     "text": [
      "Loads checkpoint by local backend from path: /home/featurize/work/AI6126project2/assets/checkpoints/edsr/checkpoint.pth\n",
      "Loads checkpoint by local backend from path: /home/featurize/work/AI6126project2/assets/checkpoints/edsr/checkpoint.pth\n",
      "#Params of /home/featurize/work/AI6126project2/assets/checkpoints/edsr/config.py and /home/featurize/work/AI6126project2/assets/checkpoints/edsr/checkpoint.pth:  1517571\n"
     ]
    },
    {
     "name": "stderr",
     "output_type": "stream",
     "text": [
      "100%|██████████| 6/6 [00:03<00:00,  1.90it/s]\n"
     ]
    },
    {
     "name": "stdout",
     "output_type": "stream",
     "text": [
      "Loads checkpoint by local backend from path: /home/featurize/work/AI6126project2/assets/checkpoints/swinir/checkpoint.pth\n",
      "Loads checkpoint by local backend from path: /home/featurize/work/AI6126project2/assets/checkpoints/swinir/checkpoint.pth\n",
      "#Params of /home/featurize/work/AI6126project2/assets/checkpoints/swinir/config.py and /home/featurize/work/AI6126project2/assets/checkpoints/swinir/checkpoint.pth:  929628\n"
     ]
    },
    {
     "name": "stderr",
     "output_type": "stream",
     "text": [
      "100%|██████████| 6/6 [00:12<00:00,  2.11s/it]\n"
     ]
    },
    {
     "name": "stdout",
     "output_type": "stream",
     "text": [
      "Loads checkpoint by local backend from path: /home/featurize/work/AI6126project2/assets/checkpoints/srgan_resnet/checkpoint.pth\n",
      "Loads checkpoint by local backend from path: /home/featurize/work/AI6126project2/assets/checkpoints/srgan_resnet/checkpoint.pth\n",
      "#Params of /home/featurize/work/AI6126project2/assets/checkpoints/srgan_resnet/config.py and /home/featurize/work/AI6126project2/assets/checkpoints/srgan_resnet/checkpoint.pth:  36041356\n"
     ]
    },
    {
     "name": "stderr",
     "output_type": "stream",
     "text": [
      "100%|██████████| 6/6 [00:03<00:00,  1.68it/s]\n"
     ]
    }
   ],
   "source": [
    "img_dirs = [\n",
    "    DATASET_TEST_DIR_PATH,\n",
    "    DATASET_TEST_REAL_DIR_PATH,\n",
    "]\n",
    "\n",
    "for img_dir in img_dirs:\n",
    "    for model in MODELS:\n",
    "        res_dir = RES_MODEL_DIR_PATHS[model]\n",
    "        inference_dir(\n",
    "            img_dir = img_dir,\n",
    "            res_dir= res_dir,\n",
    "        )"
   ]
  }
 ],
 "metadata": {
  "kernelspec": {
   "display_name": "Python 3",
   "language": "python",
   "name": "python3"
  },
  "language_info": {
   "codemirror_mode": {
    "name": "ipython",
    "version": 3
   },
   "file_extension": ".py",
   "mimetype": "text/x-python",
   "name": "python",
   "nbconvert_exporter": "python",
   "pygments_lexer": "ipython3",
   "version": "3.8.20"
  }
 },
 "nbformat": 4,
 "nbformat_minor": 5
}
